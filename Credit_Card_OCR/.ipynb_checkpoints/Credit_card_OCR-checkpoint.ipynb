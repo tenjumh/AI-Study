{
 "cells": [
  {
   "cell_type": "markdown",
   "metadata": {},
   "source": [
    "# 신용카드 번호 인식하기\n",
    "- 목표 : OpenCV를 활용한 TEXT 영역 검출\n",
    "- 유니크한 신용카드 숫자 모듈을 통한 인식\n",
    "- 참고 싸이트 : https://blog.naver.com/tommybee/221837611962\n",
    "- 여권 인식 : https://www.pyimagesearch.com/2015/11/30/detecting-machine-readable-zones-in-passport-images/\n",
    "- 여권 인식 : https://www.pyimagesearch.com/2015/11/30/detecting-machine-readable-zones-in-passport-images/"
   ]
  },
  {
   "cell_type": "code",
   "execution_count": 2,
   "metadata": {},
   "outputs": [],
   "source": [
    "# pip install --upgrade imutils\n",
    "from imutils import contours\n",
    "import numpy as np\n",
    "import argparse\n",
    "import imutils\n",
    "import cv2"
   ]
  },
  {
   "cell_type": "markdown",
   "metadata": {},
   "source": [
    "```\n",
    "# construct the argument parser and parse the arguments\n",
    "# argparse란? https://blog.naver.com/qbxlvnf11/221801181428\n",
    "ap = argparse.ArgumentParser()\n",
    "ap.add_argument(\"-i\", \"--image\", required=True, help=\"path to input image\")\n",
    "ap.add_argument(\"-r\", \"--reference\", required=True, help=\"path to reference OCR-A image\")\n",
    "args = vars(ap.parse_args())\n",
    "```"
   ]
  },
  {
   "cell_type": "markdown",
   "metadata": {},
   "source": [
    "```\n",
    "--image : OCR'd가 될 이미지의 경로.\n",
    "--reference : 참조 OCR-A 영상의 경로.\n",
    "```"
   ]
  },
  {
   "cell_type": "code",
   "execution_count": 2,
   "metadata": {},
   "outputs": [],
   "source": [
    "# define a dictionary that maps the first digit of a credit cart\n",
    "# number to the credit card type\n",
    "FIRST_NUMBER = {\n",
    "    \"3\": \"American Express\",\n",
    "    \"4\": \"Visa\",\n",
    "    \"5\": \"MasterCard\",\n",
    "    \"6\": \"Discover Card\"\n",
    "}"
   ]
  },
  {
   "cell_type": "code",
   "execution_count": 10,
   "metadata": {},
   "outputs": [],
   "source": [
    "# load the reference OCR-A image from disk, convert it to grayscale.\n",
    "# and threshold it, such that the digits appear as *white* on a *black* background\n",
    "# and invert it, such that the digits appear as *white* on a *black*\n",
    "# ref = cv2.imread(args[\"reference\"])\n",
    "#ref = cv2.imread('./reference/OCR-A_char_digits.png', 0)\n",
    "ref = cv2.imread('./reference/OCR-A_char_digits.jpg', 0)\n",
    "#ref = cv2.cvtColor(ref, cv2.COLOR_BGR2GRAY)\n",
    "#ref = cv2.threshold(ref, 10, 255, cv2.THRESH_BINARY_INV)[1]\n",
    "cv2.imshow('ref', ref)\n",
    "cv2.waitKey(0)\n",
    "cv2.destroyAllWindows()"
   ]
  },
  {
   "cell_type": "code",
   "execution_count": 11,
   "metadata": {},
   "outputs": [],
   "source": [
    "# 윤곽선 검출\n",
    "refCnts = cv2.findContours(ref.copy(), cv2.RETR_EXTERNAL, cv2.CHAIN_APPROX_SIMPLE)\n",
    "refCnts = imutils.grab_contours(refCnts)\n",
    "refCnts = contours.sort_contours(refCnts, method='left-to-right')[0]\n",
    "digits = {}"
   ]
  },
  {
   "cell_type": "code",
   "execution_count": 13,
   "metadata": {},
   "outputs": [],
   "source": [
    "# loop over the OCR-A reference contours\n",
    "# 각 검출 객체마다 순환하면서 좌표정보를 취득하고 ROI를 57x88로 고정\n",
    "# 해당 roi를 digits dictionary에 저장\n",
    "for (i, c) in enumerate(refCnts):\n",
    "    # compute the bounding box for the digit, extract it, and resize\n",
    "    # it to a fixed size\n",
    "    (x, y, w, h) = cv2.boundingRect(c)\n",
    "    roi = ref[y:y + h, x:x + w]\n",
    "    roi = cv2.resize(roi, (57, 88))\n",
    "    \n",
    "    # update the digits dictionary, mapping the digit name to the ROI\n",
    "    digits[i] = roi"
   ]
  },
  {
   "cell_type": "code",
   "execution_count": null,
   "metadata": {},
   "outputs": [],
   "source": []
  }
 ],
 "metadata": {
  "kernelspec": {
   "display_name": "Python 3",
   "language": "python",
   "name": "python3"
  },
  "language_info": {
   "codemirror_mode": {
    "name": "ipython",
    "version": 3
   },
   "file_extension": ".py",
   "mimetype": "text/x-python",
   "name": "python",
   "nbconvert_exporter": "python",
   "pygments_lexer": "ipython3",
   "version": "3.6.10"
  }
 },
 "nbformat": 4,
 "nbformat_minor": 4
}

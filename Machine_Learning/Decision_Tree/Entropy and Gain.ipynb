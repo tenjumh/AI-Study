{
 "cells": [
  {
   "cell_type": "markdown",
   "metadata": {},
   "source": [
    "![ML](https://github.com/tenjumh/GraduateSchool/blob/master/Study/Machine_Learning/Decision_Tree/image/Entropy%20and%20Gain-1.jpg?raw=True)\n",
    "![ML](https://github.com/tenjumh/GraduateSchool/blob/master/Study/Machine_Learning/Decision_Tree/image/Entropy%20and%20Gain-2.jpg?raw=True)\n",
    "![ML](https://github.com/tenjumh/GraduateSchool/blob/master/Study/Machine_Learning/Decision_Tree/image/Entropy%20and%20Gain-3.jpg?raw=True)"
   ]
  },
  {
   "cell_type": "markdown",
   "metadata": {},
   "source": [
    "## ID3 알고리즘\n",
    "- 범주형 속성에만 사용 : 엔트로피 기반 척도 수식이 범주형에만 가능\n",
    "- 수치형을 범주화하도록 이진값으로 변환\n",
    "- 속성값이 많을 경우 가지의 수도 많아짐.\n",
    "- Gain이 높은 칼럼으로 가지를 침."
   ]
  },
  {
   "cell_type": "code",
   "execution_count": null,
   "metadata": {},
   "outputs": [],
   "source": []
  }
 ],
 "metadata": {
  "kernelspec": {
   "display_name": "Python 3",
   "language": "python",
   "name": "python3"
  },
  "language_info": {
   "codemirror_mode": {
    "name": "ipython",
    "version": 3
   },
   "file_extension": ".py",
   "mimetype": "text/x-python",
   "name": "python",
   "nbconvert_exporter": "python",
   "pygments_lexer": "ipython3",
   "version": "3.6.10"
  }
 },
 "nbformat": 4,
 "nbformat_minor": 4
}

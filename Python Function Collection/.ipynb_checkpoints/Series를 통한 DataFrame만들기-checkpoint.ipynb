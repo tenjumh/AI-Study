{
 "cells": [
  {
   "cell_type": "markdown",
   "metadata": {},
   "source": [
    "# DataFrame\n",
    "### 1) for 문을 통해 feature값들을 저장할 때,\n",
    "- DataFrame을 만든다. # pd.DataFrame()\n",
    "- for문들 돌린다.\n",
    "- 추출한 feature값들을 Series에 저장한다. # pd.Series(data=x, index=indexname)\n",
    "- 만들어 놓은 DataFrame에 저장된 Series를 대입한다. # DataFrame[colname]=Series\n",
    "- 그러면 DataFrame으로 모아 놓을 수 있다"
   ]
  },
  {
   "cell_type": "code",
   "execution_count": null,
   "metadata": {},
   "outputs": [],
   "source": []
  }
 ],
 "metadata": {
  "kernelspec": {
   "display_name": "Python 3",
   "language": "python",
   "name": "python3"
  },
  "language_info": {
   "codemirror_mode": {
    "name": "ipython",
    "version": 3
   },
   "file_extension": ".py",
   "mimetype": "text/x-python",
   "name": "python",
   "nbconvert_exporter": "python",
   "pygments_lexer": "ipython3",
   "version": "3.6.10"
  }
 },
 "nbformat": 4,
 "nbformat_minor": 2
}

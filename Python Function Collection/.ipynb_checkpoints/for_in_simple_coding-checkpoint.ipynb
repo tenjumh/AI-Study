{
 "cells": [
  {
   "cell_type": "code",
   "execution_count": 3,
   "metadata": {},
   "outputs": [],
   "source": [
    "lines = [\"school\\t학교\", \"bat\\t방망이\", \"car\\t자동차\"]\n",
    "num_examples = 3"
   ]
  },
  {
   "cell_type": "code",
   "execution_count": 9,
   "metadata": {},
   "outputs": [
    {
     "name": "stdout",
     "output_type": "stream",
     "text": [
      "[['s', 'c', 'h', 'o', 'o', 'l', '\\t', '학', '교'], ['b', 'a', 't', '\\t', '방', '망', '이'], ['c', 'a', 'r', '\\t', '자', '동', '차']]\n"
     ]
    }
   ],
   "source": [
    "word_pairs = []\n",
    "for I in lines[:num_examples]:\n",
    "    word = []\n",
    "    for w in I:\n",
    "        word.append(w)\n",
    "    word_pairs.append(word)\n",
    "print(word_pairs)"
   ]
  },
  {
   "cell_type": "code",
   "execution_count": 10,
   "metadata": {},
   "outputs": [
    {
     "name": "stdout",
     "output_type": "stream",
     "text": [
      "[['s', 'c', 'h', 'o', 'o', 'l', '\\t', '학', '교'], ['b', 'a', 't', '\\t', '방', '망', '이'], ['c', 'a', 'r', '\\t', '자', '동', '차']]\n"
     ]
    }
   ],
   "source": [
    "word_pairs = [[w for w in I] for I in lines[:num_examples]]\n",
    "print(word_pairs)"
   ]
  }
 ],
 "metadata": {
  "kernelspec": {
   "display_name": "Python 3",
   "language": "python",
   "name": "python3"
  },
  "language_info": {
   "codemirror_mode": {
    "name": "ipython",
    "version": 3
   },
   "file_extension": ".py",
   "mimetype": "text/x-python",
   "name": "python",
   "nbconvert_exporter": "python",
   "pygments_lexer": "ipython3",
   "version": "3.6.10"
  }
 },
 "nbformat": 4,
 "nbformat_minor": 2
}

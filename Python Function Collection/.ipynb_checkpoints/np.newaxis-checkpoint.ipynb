{
 "cells": [
  {
   "cell_type": "code",
   "execution_count": 1,
   "metadata": {},
   "outputs": [
    {
     "name": "stdout",
     "output_type": "stream",
     "text": [
      "[[[ 2  3  1  0]\n",
      "  [12 13 11 10]\n",
      "  [22 23 21 20]]\n",
      "\n",
      " [[32 33 31 30]\n",
      "  [42 43 41 40]\n",
      "  [52 53 51 50]]]\n",
      "(2, 3, 4)\n"
     ]
    }
   ],
   "source": [
    "import numpy as np\n",
    "x = np.array([\n",
    "[[2, 3, 1, 0],[12, 13, 11, 10],[22, 23, 21, 20]],\n",
    "[[32, 33, 31, 30],[42, 43, 41, 40],[52, 53, 51, 50]]\n",
    "])\n",
    "print(x)\n",
    "print(x.shape)"
   ]
  },
  {
   "cell_type": "code",
   "execution_count": 2,
   "metadata": {},
   "outputs": [
    {
     "name": "stdout",
     "output_type": "stream",
     "text": [
      "[[[12 13 11 10]]\n",
      "\n",
      " [[42 43 41 40]]]\n",
      "(2, 1, 4)\n"
     ]
    }
   ],
   "source": [
    "X = x[:, np.newaxis, 1]  # 모든 행에서 1열 값을 가져오고(행이됨), 축을 추가한다(열이됨)\n",
    "print(X)\n",
    "print(X.shape)"
   ]
  },
  {
   "cell_type": "code",
   "execution_count": 3,
   "metadata": {},
   "outputs": [
    {
     "name": "stdout",
     "output_type": "stream",
     "text": [
      "[[[12 13 11 10]]\n",
      "\n",
      " [[42 43 41 40]]]\n",
      "(2, 1, 4)\n"
     ]
    }
   ],
   "source": [
    "X = x[:, 1, np.newaxis] # x[:, np.newaxis, 1]과 동일\n",
    "print(X)\n",
    "print(X.shape)"
   ]
  },
  {
   "cell_type": "code",
   "execution_count": 4,
   "metadata": {},
   "outputs": [
    {
     "name": "stdout",
     "output_type": "stream",
     "text": [
      "[[[32 33 31 30]\n",
      "  [42 43 41 40]\n",
      "  [52 53 51 50]]]\n",
      "(1, 3, 4)\n"
     ]
    }
   ],
   "source": [
    "X = x[1, np.newaxis, :] # 1행에서 모든 열값을 가져온다 (축추가로 열값이됨)\n",
    "print(X)\n",
    "print(X.shape)"
   ]
  },
  {
   "cell_type": "code",
   "execution_count": 5,
   "metadata": {},
   "outputs": [
    {
     "name": "stdout",
     "output_type": "stream",
     "text": [
      "[[[32 33 31 30]]\n",
      "\n",
      " [[42 43 41 40]]\n",
      "\n",
      " [[52 53 51 50]]]\n",
      "(3, 1, 4)\n"
     ]
    }
   ],
   "source": [
    "X = x[1, :, np.newaxis] # 1행에서 모든 열값을 가져온다 ( 축 추가로 행값이됨 )\n",
    "print(X)\n",
    "print(X.shape)"
   ]
  },
  {
   "cell_type": "code",
   "execution_count": null,
   "metadata": {},
   "outputs": [],
   "source": []
  }
 ],
 "metadata": {
  "kernelspec": {
   "display_name": "Python 3",
   "language": "python",
   "name": "python3"
  },
  "language_info": {
   "codemirror_mode": {
    "name": "ipython",
    "version": 3
   },
   "file_extension": ".py",
   "mimetype": "text/x-python",
   "name": "python",
   "nbconvert_exporter": "python",
   "pygments_lexer": "ipython3",
   "version": "3.6.9"
  }
 },
 "nbformat": 4,
 "nbformat_minor": 2
}

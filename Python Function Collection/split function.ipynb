{
 "cells": [
  {
   "cell_type": "code",
   "execution_count": 1,
   "metadata": {},
   "outputs": [
    {
     "name": "stdout",
     "output_type": "stream",
     "text": [
      "학교/N,말/H,갈/N,떡/V,바보/Y\n"
     ]
    }
   ],
   "source": [
    "poc_list = '학교/N,말/H,갈/N,떡/V,바보/Y'\n",
    "print(poc_list)"
   ]
  },
  {
   "cell_type": "code",
   "execution_count": 2,
   "metadata": {},
   "outputs": [],
   "source": [
    "poc_spl = poc_list.split(\",\")"
   ]
  },
  {
   "cell_type": "code",
   "execution_count": 3,
   "metadata": {},
   "outputs": [
    {
     "name": "stdout",
     "output_type": "stream",
     "text": [
      "['학교/N', '말/H', '갈/N', '떡/V', '바보/Y']\n"
     ]
    },
    {
     "data": {
      "text/plain": [
       "'말/H'"
      ]
     },
     "execution_count": 3,
     "metadata": {},
     "output_type": "execute_result"
    }
   ],
   "source": [
    "print(poc_spl)\n",
    "poc_spl[1]"
   ]
  },
  {
   "cell_type": "code",
   "execution_count": 4,
   "metadata": {},
   "outputs": [
    {
     "name": "stdout",
     "output_type": "stream",
     "text": [
      "학교/N\n",
      "갈/N\n"
     ]
    }
   ],
   "source": [
    "for i in poc_spl:\n",
    "    #print(i)\n",
    "    if i.split(\"/\")[1] in \"N\":\n",
    "        print(i)"
   ]
  },
  {
   "cell_type": "code",
   "execution_count": 6,
   "metadata": {},
   "outputs": [
    {
     "name": "stdout",
     "output_type": "stream",
     "text": [
      "['학교', 'N']\n",
      "학교/N\n",
      "['말', 'H']\n",
      "['갈', 'N']\n",
      "갈/N\n",
      "['떡', 'V']\n",
      "떡/V\n",
      "['바보', 'Y']\n"
     ]
    }
   ],
   "source": [
    "tag = ['N', 'V']\n",
    "for i in poc_spl:\n",
    "    #print(i)\n",
    "    print(i.split(\"/\"))\n",
    "    if i.split(\"/\")[1] in tag:\n",
    "        print(i)"
   ]
  },
  {
   "cell_type": "code",
   "execution_count": null,
   "metadata": {},
   "outputs": [],
   "source": []
  }
 ],
 "metadata": {
  "kernelspec": {
   "display_name": "Python 3",
   "language": "python",
   "name": "python3"
  },
  "language_info": {
   "codemirror_mode": {
    "name": "ipython",
    "version": 3
   },
   "file_extension": ".py",
   "mimetype": "text/x-python",
   "name": "python",
   "nbconvert_exporter": "python",
   "pygments_lexer": "ipython3",
   "version": "3.6.10"
  }
 },
 "nbformat": 4,
 "nbformat_minor": 2
}

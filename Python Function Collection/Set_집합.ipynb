{
 "cells": [
  {
   "cell_type": "markdown",
   "metadata": {},
   "source": [
    "# 집합 set\n",
    "- 순서도 중복도 허용하지 않는 데이터 타입.\n",
    "- 순서가 없기에 인덱스 접근 불가\n",
    "- 수학에서 집합과 같음"
   ]
  },
  {
   "cell_type": "markdown",
   "metadata": {},
   "source": [
    "[중요]\n",
    "- 리스트 타입은 set을 통합 {} 집합 타입으로 바꿔줘야 한다\n",
    "- 합집합은 a, b일때, a|b 또는 a.union(b)\n",
    "- 교집합은 a, b일때, a&b 또는 a.intersection(b)"
   ]
  },
  {
   "cell_type": "code",
   "execution_count": 2,
   "metadata": {},
   "outputs": [
    {
     "name": "stdout",
     "output_type": "stream",
     "text": [
      "{1, 2, 3, 4, 5, 6, 7}\n"
     ]
    }
   ],
   "source": [
    "# 합집합 생성\n",
    "a = {1,2,3,4,5}\n",
    "b = {3,4,5,6,7}\n",
    "c = a|b\n",
    "print(c)"
   ]
  },
  {
   "cell_type": "code",
   "execution_count": 3,
   "metadata": {},
   "outputs": [
    {
     "name": "stdout",
     "output_type": "stream",
     "text": [
      "{3, 4, 5}\n"
     ]
    }
   ],
   "source": [
    "# 교집합 생성\n",
    "a = {1,2,3,4,5}\n",
    "b = {3,4,5,6,7}\n",
    "c = a&b\n",
    "print(c)"
   ]
  },
  {
   "cell_type": "code",
   "execution_count": 6,
   "metadata": {},
   "outputs": [
    {
     "name": "stdout",
     "output_type": "stream",
     "text": [
      "{1, 2, 3, 4, 5, 6, 7}\n"
     ]
    }
   ],
   "source": [
    "# 리스트 타입을 합집합 생성\n",
    "a = [1,2,3,4,5]\n",
    "b = [3,4,5,6,7]\n",
    "c = set(a)|set(b)\n",
    "print(c)"
   ]
  },
  {
   "cell_type": "code",
   "execution_count": 7,
   "metadata": {},
   "outputs": [
    {
     "name": "stdout",
     "output_type": "stream",
     "text": [
      "{1, 2, 3, 4, 5, 6, 7}\n"
     ]
    }
   ],
   "source": [
    "# 리스트 타입을 합집합 생성\n",
    "a = [1,2,3,4,5]\n",
    "b = [3,4,5,6,7]\n",
    "c = set(a).union(set(b))\n",
    "print(c)"
   ]
  },
  {
   "cell_type": "code",
   "execution_count": 10,
   "metadata": {},
   "outputs": [
    {
     "name": "stdout",
     "output_type": "stream",
     "text": [
      "{3, 4, 5}\n"
     ]
    }
   ],
   "source": [
    "# 리스트 타입을 교집합 생성\n",
    "a = [1,2,3,4,5]\n",
    "b = [3,4,5,6,7]\n",
    "c = set(a)&set(b)\n",
    "print(c)"
   ]
  },
  {
   "cell_type": "code",
   "execution_count": 11,
   "metadata": {},
   "outputs": [
    {
     "name": "stdout",
     "output_type": "stream",
     "text": [
      "{3, 4, 5}\n"
     ]
    }
   ],
   "source": [
    "# 리스트 타입을 교집합 생성\n",
    "a = [1,2,3,4,5]\n",
    "b = [3,4,5,6,7]\n",
    "c = set(a).intersection(set(b))\n",
    "print(c)"
   ]
  }
 ],
 "metadata": {
  "kernelspec": {
   "display_name": "Python 3",
   "language": "python",
   "name": "python3"
  },
  "language_info": {
   "codemirror_mode": {
    "name": "ipython",
    "version": 3
   },
   "file_extension": ".py",
   "mimetype": "text/x-python",
   "name": "python",
   "nbconvert_exporter": "python",
   "pygments_lexer": "ipython3",
   "version": "3.6.9"
  }
 },
 "nbformat": 4,
 "nbformat_minor": 2
}

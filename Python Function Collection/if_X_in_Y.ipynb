{
 "cells": [
  {
   "cell_type": "code",
   "execution_count": 2,
   "metadata": {},
   "outputs": [
    {
     "name": "stdout",
     "output_type": "stream",
     "text": [
      "{'A': 0, 'B': 1, 'C': 2, 'D': 3, 'E': 4}\n"
     ]
    }
   ],
   "source": [
    "label = ['A', 'C', 'E', 'A', 'B']\n",
    "label_list = ['A', 'B', 'C', 'D', 'E']\n",
    "label_map = {label:i for i, label in enumerate(label_list)}\n",
    "print(label_map)"
   ]
  },
  {
   "cell_type": "code",
   "execution_count": 9,
   "metadata": {},
   "outputs": [
    {
     "name": "stdout",
     "output_type": "stream",
     "text": [
      "['A', 'C', 'E', 'A', 'B']\n",
      "[0, 2, 4, 0, 1]\n"
     ]
    }
   ],
   "source": [
    "label_idx = []\n",
    "for i in label:\n",
    "    if i in label_map.keys():\n",
    "        label_idx.append(label_map[i])\n",
    "\n",
    "print(label)\n",
    "print(label_idx)"
   ]
  },
  {
   "cell_type": "code",
   "execution_count": null,
   "metadata": {},
   "outputs": [],
   "source": []
  }
 ],
 "metadata": {
  "kernelspec": {
   "display_name": "Python 3",
   "language": "python",
   "name": "python3"
  },
  "language_info": {
   "codemirror_mode": {
    "name": "ipython",
    "version": 3
   },
   "file_extension": ".py",
   "mimetype": "text/x-python",
   "name": "python",
   "nbconvert_exporter": "python",
   "pygments_lexer": "ipython3",
   "version": "3.6.10"
  }
 },
 "nbformat": 4,
 "nbformat_minor": 2
}

{
 "cells": [
  {
   "cell_type": "markdown",
   "metadata": {},
   "source": [
    "## Copy - shallow copy, deep copy\n",
    "\n",
    "- shallow copy는 얇은 복사로 같은 주소값을 바라보는 것임\n",
    "- deep copy는 다른 주소값을 바로보고 서로 영향을 받지 않음"
   ]
  },
  {
   "cell_type": "code",
   "execution_count": 6,
   "metadata": {},
   "outputs": [
    {
     "name": "stdout",
     "output_type": "stream",
     "text": [
      "[99, 2, 3]\n"
     ]
    }
   ],
   "source": [
    "# shallow copy\n",
    "a = [1, 2, 3]\n",
    "b = a\n",
    "a[0] = 99\n",
    "print(b)    # 당연히 a가 바뀌면 b도 바뀌죠?"
   ]
  },
  {
   "cell_type": "code",
   "execution_count": 3,
   "metadata": {},
   "outputs": [
    {
     "name": "stdout",
     "output_type": "stream",
     "text": [
      "[1, 2, [3, 4], 5]\n",
      "[1, 2, [3, 4], 5]\n",
      "[1, 2, [1, 4], 5]\n"
     ]
    }
   ],
   "source": [
    "# deep copy\n",
    "import copy\n",
    "\n",
    "list_1 = [1, 2, [3, 4], 5]\n",
    "list_2 = copy.deepcopy(list_1)\n",
    "print(list_2)\n",
    "list_2[2][0] = 1\n",
    "print(list_1)\n",
    "print(list_2)  # 당연히 안바뀌죠?"
   ]
  }
 ],
 "metadata": {
  "kernelspec": {
   "display_name": "Python 3",
   "language": "python",
   "name": "python3"
  },
  "language_info": {
   "codemirror_mode": {
    "name": "ipython",
    "version": 3
   },
   "file_extension": ".py",
   "mimetype": "text/x-python",
   "name": "python",
   "nbconvert_exporter": "python",
   "pygments_lexer": "ipython3",
   "version": "3.6.10"
  }
 },
 "nbformat": 4,
 "nbformat_minor": 2
}

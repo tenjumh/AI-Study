{
 "cells": [
  {
   "attachments": {},
   "cell_type": "markdown",
   "metadata": {},
   "source": [
    "![image.png](https://github.com/tenjumh/AI-Study/blob/master/Python%20Function%20Collection/image/numpy_array.jpg?raw=True)"
   ]
  },
  {
   "cell_type": "code",
   "execution_count": 3,
   "metadata": {},
   "outputs": [
    {
     "name": "stdout",
     "output_type": "stream",
     "text": [
      "[[[ 1  2  3]\n",
      "  [ 4  5  6]\n",
      "  [ 7  8  9]]\n",
      "\n",
      " [[10 11 12]\n",
      "  [13 14 15]\n",
      "  [16 17 18]]\n",
      "\n",
      " [[19 20 21]\n",
      "  [22 23 24]\n",
      "  [25 26 27]]]\n"
     ]
    }
   ],
   "source": [
    "import numpy as np\n",
    "\n",
    "a = np.arange(1,28)\n",
    "a = a.reshape(3,3,3)\n",
    "print(a)"
   ]
  },
  {
   "cell_type": "markdown",
   "metadata": {},
   "source": [
    "### Axis\n",
    "- axis = None : 그대로\n",
    "- axis = 0 : 그냥 느껴봐. 최소단위 위치별로???\n",
    "- axis = 1 : 열별로\n",
    "- axis = 2 : 행별로\n",
    "![image.png](https://github.com/tenjumh/AI-Study/blob/master/Python%20Function%20Collection/image/numpy_axis.JPG?raw=True)"
   ]
  },
  {
   "cell_type": "code",
   "execution_count": 20,
   "metadata": {},
   "outputs": [
    {
     "name": "stdout",
     "output_type": "stream",
     "text": [
      "378\n",
      "[[30 33 36]\n",
      " [39 42 45]\n",
      " [48 51 54]]\n",
      "[[12 15 18]\n",
      " [39 42 45]\n",
      " [66 69 72]]\n",
      "[[ 6 15 24]\n",
      " [33 42 51]\n",
      " [60 69 78]]\n"
     ]
    }
   ],
   "source": [
    "print(np.sum(a, axis=None))\n",
    "print(np.sum(a, axis=0))\n",
    "print(np.sum(a, axis=1))\n",
    "print(np.sum(a, axis=2))"
   ]
  },
  {
   "attachments": {},
   "cell_type": "markdown",
   "metadata": {},
   "source": [
    "![image.png](https://github.com/tenjumh/AI-Study/blob/master/Python%20Function%20Collection/image/numpy_broadcast.jpg?raw=True)"
   ]
  },
  {
   "cell_type": "code",
   "execution_count": 23,
   "metadata": {},
   "outputs": [
    {
     "name": "stdout",
     "output_type": "stream",
     "text": [
      "[[ 1  2  3  4  5  6]\n",
      " [ 7  8  9 10 11 12]\n",
      " [13 14 15 16 17 18]\n",
      " [19 20 21 22 23 24]]\n",
      "\n",
      "[[25 26 27 28 29 30]\n",
      " [31 32 33 34 35 36]\n",
      " [37 38 39 40 41 42]\n",
      " [43 44 45 46 47 48]]\n"
     ]
    }
   ],
   "source": [
    "a= np.arange(1, 25).reshape(4, 6)\n",
    "b= np.arange(25, 49).reshape(4, 6)\n",
    "print(a)\n",
    "print()\n",
    "print(b)"
   ]
  },
  {
   "cell_type": "code",
   "execution_count": 24,
   "metadata": {},
   "outputs": [
    {
     "name": "stdout",
     "output_type": "stream",
     "text": [
      "[[101 102 103 104 105 106]\n",
      " [107 108 109 110 111 112]\n",
      " [113 114 115 116 117 118]\n",
      " [119 120 121 122 123 124]]\n"
     ]
    }
   ],
   "source": [
    "print(a+100)"
   ]
  },
  {
   "cell_type": "code",
   "execution_count": 28,
   "metadata": {},
   "outputs": [
    {
     "name": "stdout",
     "output_type": "stream",
     "text": [
      "[[ 1  2  3  4  5  6]\n",
      " [ 7  8  9 10 11 12]\n",
      " [13 14 15 16 17 18]\n",
      " [19 20 21 22 23 24]]\n"
     ]
    }
   ],
   "source": [
    "A = np.arange(1, 25)\n",
    "a = A.reshape((4, 6))\n",
    "print(a)"
   ]
  },
  {
   "cell_type": "markdown",
   "metadata": {},
   "source": [
    "## Hsplit\n",
    "![image.png](https://github.com/tenjumh/AI-Study/blob/master/Python%20Function%20Collection/image/numpy_hsplit.jpg?raw=True)\n",
    "![image.png](https://github.com/tenjumh/AI-Study/blob/master/Python%20Function%20Collection/image/numpy_hsplit_2.jpg?raw=True)"
   ]
  },
  {
   "cell_type": "code",
   "execution_count": 35,
   "metadata": {},
   "outputs": [
    {
     "name": "stdout",
     "output_type": "stream",
     "text": [
      "[array([[ 1,  2,  3],\n",
      "       [ 7,  8,  9],\n",
      "       [13, 14, 15],\n",
      "       [19, 20, 21]]), array([[ 4,  5,  6],\n",
      "       [10, 11, 12],\n",
      "       [16, 17, 18],\n",
      "       [22, 23, 24]])]\n",
      "[array([[ 1,  2],\n",
      "       [ 7,  8],\n",
      "       [13, 14],\n",
      "       [19, 20]]), array([[ 3,  4],\n",
      "       [ 9, 10],\n",
      "       [15, 16],\n",
      "       [21, 22]]), array([[ 5,  6],\n",
      "       [11, 12],\n",
      "       [17, 18],\n",
      "       [23, 24]])]\n",
      "[array([[ 1],\n",
      "       [ 7],\n",
      "       [13],\n",
      "       [19]]), array([[ 2,  3],\n",
      "       [ 8,  9],\n",
      "       [14, 15],\n",
      "       [20, 21]]), array([[ 4,  5],\n",
      "       [10, 11],\n",
      "       [16, 17],\n",
      "       [22, 23]]), array([[ 6],\n",
      "       [12],\n",
      "       [18],\n",
      "       [24]])]\n"
     ]
    }
   ],
   "source": [
    "b = np.hsplit(a, 2)\n",
    "print(b)\n",
    "c = np.hsplit(a, 3)\n",
    "print(c)\n",
    "d = np.hsplit(a,[1,3,5])\n",
    "print(d)"
   ]
  },
  {
   "cell_type": "markdown",
   "metadata": {},
   "source": [
    "## Vsplit\n",
    "![image.png](https://github.com/tenjumh/AI-Study/blob/master/Python%20Function%20Collection/image/numpy_vsplit.jpg?raw=True)\n",
    "![image.png](https://github.com/tenjumh/AI-Study/blob/master/Python%20Function%20Collection/image/numpy_vsplit_2.jpg?raw=True)"
   ]
  },
  {
   "cell_type": "code",
   "execution_count": 37,
   "metadata": {},
   "outputs": [
    {
     "name": "stdout",
     "output_type": "stream",
     "text": [
      "[array([[ 1,  2,  3,  4,  5,  6],\n",
      "       [ 7,  8,  9, 10, 11, 12]]), array([[13, 14, 15, 16, 17, 18],\n",
      "       [19, 20, 21, 22, 23, 24]])]\n",
      "[array([[1, 2, 3, 4, 5, 6]]), array([[ 7,  8,  9, 10, 11, 12]]), array([[13, 14, 15, 16, 17, 18]]), array([[19, 20, 21, 22, 23, 24]])]\n",
      "[array([[1, 2, 3, 4, 5, 6]]), array([[ 7,  8,  9, 10, 11, 12],\n",
      "       [13, 14, 15, 16, 17, 18]]), array([[19, 20, 21, 22, 23, 24]])]\n"
     ]
    }
   ],
   "source": [
    "e = np.vsplit(a, 2)\n",
    "print(e)\n",
    "f = np.vsplit(a, 4)\n",
    "print(f)\n",
    "g = np.vsplit(a, [1,3])\n",
    "print(g)"
   ]
  },
  {
   "cell_type": "code",
   "execution_count": null,
   "metadata": {},
   "outputs": [],
   "source": []
  }
 ],
 "metadata": {
  "kernelspec": {
   "display_name": "Python 3",
   "language": "python",
   "name": "python3"
  },
  "language_info": {
   "codemirror_mode": {
    "name": "ipython",
    "version": 3
   },
   "file_extension": ".py",
   "mimetype": "text/x-python",
   "name": "python",
   "nbconvert_exporter": "python",
   "pygments_lexer": "ipython3",
   "version": "3.6.10"
  }
 },
 "nbformat": 4,
 "nbformat_minor": 2
}

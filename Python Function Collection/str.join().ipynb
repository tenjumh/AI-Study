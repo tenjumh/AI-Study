{
 "cells": [
  {
   "cell_type": "markdown",
   "metadata": {},
   "source": [
    "# 파이썬 str.join()"
   ]
  },
  {
   "cell_type": "code",
   "execution_count": 17,
   "metadata": {},
   "outputs": [],
   "source": [
    "str = 'Je t\\'aime.'\n",
    "listed = ['Je', 't\\'aime']\n",
    "dicted = {'I' : 'Je', 'love you' : 't\\'aime'}"
   ]
  },
  {
   "cell_type": "code",
   "execution_count": 18,
   "metadata": {},

   "outputs": [
    {
     "name": "stdout",
     "output_type": "stream",
     "text": [
      "Je t'aime.\n",
      "['Je', \"t'aime\"]\n",
      "{'I': 'Je', 'love you': \"t'aime\"}\n"
     ]
    }
   ],
   "source": [
    "print(str)\n",
    "print(listed)\n",
    "print(dicted)"
   ]
  },
  {
   "cell_type": "code",
   "execution_count": 13,
   "metadata": {},
   "outputs": [
    {
     "name": "stdout",
     "output_type": "stream",
     "text": [
      "J.e. .t.'.a.i.m.e..\n"
     ]
    }
   ],
   "source": [
    "joined_str = '.'.join(str)\n",
    "print(joined_str)"
   ]
  },
  {
   "cell_type": "code",
   "execution_count": 14,
   "metadata": {},
   "outputs": [
    {
     "name": "stdout",
     "output_type": "stream",
     "text": [
      "Je.t'aime\n"
     ]
    }
   ],
   "source": [
    "joined_list = '.'.join(listed)\n",
    "print(joined_list)"
   ]
  },
  {
   "cell_type": "code",
   "execution_count": 27,
   "metadata": {},
   "outputs": [
    {
     "name": "stdout",
     "output_type": "stream",
     "text": [
      "[Key]\n",
      "I.love you\n",
      "[Values]\n",
      "Je,t'aime\n"
     ]
    }
   ],
   "source": [
    "joined_dict = '.'.join(dicted)\n",
    "print('[Key]')\n",
    "print(joined_dict)\n",
    "joined_dict_val = ','.join(dicted.values())\n",
    "print('[Values]')\n",
    "print(joined_dict_val)"
   ]
  },
  {
   "cell_type": "markdown",
   "metadata": {},
   "source": [
    "- str(문자열)로 join할 경우 문자열 사이에 '.'이 들어감\n",
    "- list(리스트)로 join할 경우 리스트 값들 사이에 '.'이 들어감"
   ]
  },
  {
   "cell_type": "markdown",
   "metadata": {},
   "source": [
    "<b>*** 토큰화되어 있는 리스트를 \"역 토큰화\"할 때</b>"
   ]
  },
  {
   "cell_type": "code",
   "execution_count": 16,
   "metadata": {},
   "outputs": [
    {
     "name": "stdout",
     "output_type": "stream",
     "text": [
      "['우리', '는', '학교', '에', '갑니다']\n",
      "우리 는 학교 에 갑니다\n"
     ]
    }
   ],
   "source": [
    "tokenized = ['우리', '는', '학교', '에', '갑니다']\n",
    "retokenized = ' '.join(tokenized)\n",
    "print(tokenized)\n",
    "print(retokenized)"
   ]
  }
 ],
 "metadata": {
  "kernelspec": {
   "display_name": "Python 3",
   "language": "python",
   "name": "python3"
  },
  "language_info": {
   "codemirror_mode": {
    "name": "ipython",
    "version": 3
   },
   "file_extension": ".py",
   "mimetype": "text/x-python",
   "name": "python",
   "nbconvert_exporter": "python",
   "pygments_lexer": "ipython3",
   "version": "3.6.9"
  }
 },
 "nbformat": 4,
 "nbformat_minor": 2
}

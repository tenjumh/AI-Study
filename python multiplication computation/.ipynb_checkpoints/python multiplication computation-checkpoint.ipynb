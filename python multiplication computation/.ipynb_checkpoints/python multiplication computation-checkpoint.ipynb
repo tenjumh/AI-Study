{
 "cells": [
  {
   "cell_type": "markdown",
   "metadata": {},
   "source": [
    "#파이썬을 보면 다양한 곱연산이 있고 곱연산의 종류 및 사용용도를 확인해 보고자 한다.\n",
    "곱연산에는 교환법칙이 성립하는 것도 있지만 matrix의 곱연산은 교환법칙(commutative law)가 성립하지 않는다."
   ]
  },
  {
   "cell_type": "markdown",
   "metadata": {},
   "source": [
    "![image](https://user-images.githubusercontent.com/42470977/67067211-673b7a00-f1b0-11e9-9ca0-e254eeb7a323.jpg)"
   ]
  },
  {
   "cell_type": "markdown",
   "metadata": {},
   "source": [
    "# 1. numpy * operator (* : asterisk) \n",
    "-> shape이 동일한 두 행렬을 원소끼리(element-wise) 곱하는 연산"
   ]
  },
  {
   "cell_type": "code",
   "execution_count": 36,
   "metadata": {},
   "outputs": [
    {
     "name": "stdout",
     "output_type": "stream",
     "text": [
      "<a행렬>\n",
      " [[0 1 2]\n",
      " [3 4 5]] \n",
      "<a.shape>\n",
      " (2, 3)\n",
      "<b행렬>\n",
      " [[-2 -1]\n",
      " [ 0  1]\n",
      " [ 2  3]] \n",
      "<b.shape>\n",
      " (3, 2)\n"
     ]
    }
   ],
   "source": [
    "\n",
    "import numpy as np\n",
    "a = np.arange(6).reshape([2,3])  #0~5까지 숫자를 2*3행렬로 구성\n",
    "b = np.arange(6).reshape([3,2]) - 2  #0~5까지 숫자를 -2하여 3*2행렬로 구성\n",
    "print(\"<a행렬>\\n\", a,\"\\n<a.shape>\\n\", a.shape)\n",
    "print(\"<b행렬>\\n\", b,\"\\n<b.shape>\\n\", b.shape)"
   ]
  },
  {
   "cell_type": "code",
   "execution_count": 37,
   "metadata": {},
   "outputs": [
    {
     "ename": "ValueError",
     "evalue": "operands could not be broadcast together with shapes (2,3) (3,2) ",
     "output_type": "error",
     "traceback": [
      "\u001b[1;31m-------------------------------------------------------------------------\u001b[0m",
      "\u001b[1;31mValueError\u001b[0m                              Traceback (most recent call last)",
      "\u001b[1;32m<ipython-input-37-1c0361076030>\u001b[0m in \u001b[0;36m<module>\u001b[1;34m\u001b[0m\n\u001b[1;32m----> 1\u001b[1;33m \u001b[0mprint\u001b[0m\u001b[1;33m(\u001b[0m\u001b[0ma\u001b[0m\u001b[1;33m*\u001b[0m\u001b[0mb\u001b[0m\u001b[1;33m)\u001b[0m\u001b[1;33m\u001b[0m\u001b[1;33m\u001b[0m\u001b[0m\n\u001b[0m\u001b[0;32m      2\u001b[0m \u001b[0mprint\u001b[0m\u001b[1;33m(\u001b[0m\u001b[0mb\u001b[0m\u001b[1;33m*\u001b[0m\u001b[0ma\u001b[0m\u001b[1;33m)\u001b[0m\u001b[1;33m\u001b[0m\u001b[1;33m\u001b[0m\u001b[0m\n",
      "\u001b[1;31mValueError\u001b[0m: operands could not be broadcast together with shapes (2,3) (3,2) "
     ]
    }
   ],
   "source": [
    "print(a*b)\n",
    "print(b*a)"
   ]
  },
  {
   "cell_type": "markdown",
   "metadata": {},
   "source": [
    "# shape이 달라서 곱이 안됨"
   ]
  },
  {
   "cell_type": "code",
   "execution_count": 38,
   "metadata": {},
   "outputs": [
    {
     "data": {
      "text/plain": [
       "array([[ 0,  0,  4],\n",
       "       [-3,  4, 15]])"
      ]
     },
     "execution_count": 38,
     "metadata": {},
     "output_type": "execute_result"
    }
   ],
   "source": [
    "a*b.T"
   ]
  },
  {
   "cell_type": "code",
   "execution_count": 39,
   "metadata": {},
   "outputs": [
    {
     "data": {
      "text/plain": [
       "array([[ 0,  0,  4],\n",
       "       [-3,  4, 15]])"
      ]
     },
     "execution_count": 39,
     "metadata": {},
     "output_type": "execute_result"
    }
   ],
   "source": [
    "b.T*a"
   ]
  },
  {
   "cell_type": "markdown",
   "metadata": {},
   "source": [
    "# a*b.T와 b.t*a 교환법칙이 성립"
   ]
  },
  {
   "cell_type": "markdown",
   "metadata": {},
   "source": [
    "# 2. numpy.dot\n",
    "-> 두 벡터의 내적곱 연산 *2차원행렬에서는 행렵곱으로도 사용가능하나, 행렬곱은 matmul을 사용합니다.\n",
    "-> ***첫번째 행렬의 열크기(column)과 두번째 행렬의 행크기(row)가 같아야함.\n",
    "   즉, 첫번째 행렬 맨뒤(dim 2)와 두번째 행렬 뒤에서 2번째(dim 1)가 같아야 함.\n",
    "-> ex) 2*3, 3*4 OK, 2*3*4, 2*4*3 OK, 2*3*8, 2*4*3 NO"
   ]
  },
  {
   "cell_type": "code",
   "execution_count": 40,
   "metadata": {},
   "outputs": [],
   "source": [
    "a = np.arange(24).reshape(2,3,4)\n",
    "b = np.arange(24).reshape(2,4,3)"
   ]
  },
  {
   "cell_type": "code",
   "execution_count": 41,
   "metadata": {},
   "outputs": [
    {
     "name": "stdout",
     "output_type": "stream",
     "text": [
      "[[[ 0  1  2  3]\n",
      "  [ 4  5  6  7]\n",
      "  [ 8  9 10 11]]\n",
      "\n",
      " [[12 13 14 15]\n",
      "  [16 17 18 19]\n",
      "  [20 21 22 23]]] \n",
      " (2, 3, 4)\n",
      "[[[ 0  1  2]\n",
      "  [ 3  4  5]\n",
      "  [ 6  7  8]\n",
      "  [ 9 10 11]]\n",
      "\n",
      " [[12 13 14]\n",
      "  [15 16 17]\n",
      "  [18 19 20]\n",
      "  [21 22 23]]] \n",
      " (2, 4, 3)\n"
     ]
    }
   ],
   "source": [
    "print(a ,\"\\n\", a.shape)\n",
    "print(b ,\"\\n\", b.shape)"
   ]
  },
  {
   "cell_type": "code",
   "execution_count": 42,
   "metadata": {},
   "outputs": [
    {
     "name": "stdout",
     "output_type": "stream",
     "text": [
      "[[[[  42   48   54]\n",
      "   [ 114  120  126]]\n",
      "\n",
      "  [[ 114  136  158]\n",
      "   [ 378  400  422]]\n",
      "\n",
      "  [[ 186  224  262]\n",
      "   [ 642  680  718]]]\n",
      "\n",
      "\n",
      " [[[ 258  312  366]\n",
      "   [ 906  960 1014]]\n",
      "\n",
      "  [[ 330  400  470]\n",
      "   [1170 1240 1310]]\n",
      "\n",
      "  [[ 402  488  574]\n",
      "   [1434 1520 1606]]]]\n",
      "(2, 3, 2, 3)\n"
     ]
    }
   ],
   "source": [
    "print(np.dot(a,b))    # =a.dot(b)\n",
    "print(np.dot(a,b).shape)"
   ]
  },
  {
   "cell_type": "code",
   "execution_count": 43,
   "metadata": {},
   "outputs": [
    {
     "name": "stdout",
     "output_type": "stream",
     "text": [
      "[[[[  20   23   26   29]\n",
      "   [  56   59   62   65]]\n",
      "\n",
      "  [[  56   68   80   92]\n",
      "   [ 200  212  224  236]]\n",
      "\n",
      "  [[  92  113  134  155]\n",
      "   [ 344  365  386  407]]\n",
      "\n",
      "  [[ 128  158  188  218]\n",
      "   [ 488  518  548  578]]]\n",
      "\n",
      "\n",
      " [[[ 164  203  242  281]\n",
      "   [ 632  671  710  749]]\n",
      "\n",
      "  [[ 200  248  296  344]\n",
      "   [ 776  824  872  920]]\n",
      "\n",
      "  [[ 236  293  350  407]\n",
      "   [ 920  977 1034 1091]]\n",
      "\n",
      "  [[ 272  338  404  470]\n",
      "   [1064 1130 1196 1262]]]]\n",
      "(2, 4, 2, 4)\n"
     ]
    }
   ],
   "source": [
    "print(np.dot(b,a))\n",
    "print(np.dot(b,a).shape)"
   ]
  },
  {
   "cell_type": "markdown",
   "metadata": {},
   "source": [
    "# np.dot(a,b)와 np.dot(b,a) 교환법칙이 성립 않음"
   ]
  },
  {
   "cell_type": "markdown",
   "metadata": {},
   "source": [
    "# 3. numpy.matmul(@operator)\n",
    "-> 행렬의 곱 연산  *3차원행렬 이상의 행렬곱을 계산하는 방식이 다름, \n",
    "   또한 *곱연산 같이 @로 대신할 수 있음\n",
    "\n",
    "-> ***첫번째 행렬의 열크기(column)과 두번째 행렬의 행크기(row)가 같아야함.\n",
    "   즉, 첫번째 행렬 맨뒤(dim 2)와 두번째 행렬 뒤에서 2번째(dim 1)가 같아야 함.\n",
    "-> ex) 2*3, 3*4 OK, 2*3*4, 2*4*3 OK, 2*3*8, 2*4*3 NO"
   ]
  },
  {
   "cell_type": "code",
   "execution_count": 44,
   "metadata": {},
   "outputs": [],
   "source": [
    "a = np.arange(24).reshape(2,3,4)\n",
    "b = np.arange(24).reshape(2,4,3)"
   ]
  },
  {
   "cell_type": "code",
   "execution_count": 45,
   "metadata": {},
   "outputs": [
    {
     "name": "stdout",
     "output_type": "stream",
     "text": [
      "[[[  42   48   54]\n",
      "  [ 114  136  158]\n",
      "  [ 186  224  262]]\n",
      "\n",
      " [[ 906  960 1014]\n",
      "  [1170 1240 1310]\n",
      "  [1434 1520 1606]]]\n",
      "(2, 3, 3)\n"
     ]
    }
   ],
   "source": [
    "print(np.matmul(a,b))\n",
    "print(np.matmul(a,b).shape)"
   ]
  },
  {
   "cell_type": "code",
   "execution_count": 46,
   "metadata": {},
   "outputs": [
    {
     "name": "stdout",
     "output_type": "stream",
     "text": [
      "[[[  20   23   26   29]\n",
      "  [  56   68   80   92]\n",
      "  [  92  113  134  155]\n",
      "  [ 128  158  188  218]]\n",
      "\n",
      " [[ 632  671  710  749]\n",
      "  [ 776  824  872  920]\n",
      "  [ 920  977 1034 1091]\n",
      "  [1064 1130 1196 1262]]]\n",
      "(2, 4, 4)\n"
     ]
    }
   ],
   "source": [
    "print(np.matmul(b,a))\n",
    "print(np.matmul(b,a).shape)"
   ]
  },
  {
   "cell_type": "code",
   "execution_count": 47,
   "metadata": {},
   "outputs": [],
   "source": [
    "a = np.arange(48).reshape(2,3,8)\n",
    "b = np.arange(24).reshape(2,4,3)"
   ]
  },
  {
   "cell_type": "code",
   "execution_count": 48,
   "metadata": {},
   "outputs": [
    {
     "ename": "ValueError",
     "evalue": "matmul: Input operand 1 has a mismatch in its core dimension 0, with gufunc signature (n?,k),(k,m?)->(n?,m?) (size 4 is different from 8)",
     "output_type": "error",
     "traceback": [
      "\u001b[1;31m-------------------------------------------------------------------------\u001b[0m",
      "\u001b[1;31mValueError\u001b[0m                              Traceback (most recent call last)",
      "\u001b[1;32m<ipython-input-48-68f3eab703c7>\u001b[0m in \u001b[0;36m<module>\u001b[1;34m\u001b[0m\n\u001b[1;32m----> 1\u001b[1;33m \u001b[0mprint\u001b[0m\u001b[1;33m(\u001b[0m\u001b[0mnp\u001b[0m\u001b[1;33m.\u001b[0m\u001b[0mmatmul\u001b[0m\u001b[1;33m(\u001b[0m\u001b[0ma\u001b[0m\u001b[1;33m,\u001b[0m\u001b[0mb\u001b[0m\u001b[1;33m)\u001b[0m\u001b[1;33m)\u001b[0m\u001b[1;33m\u001b[0m\u001b[1;33m\u001b[0m\u001b[0m\n\u001b[0m\u001b[0;32m      2\u001b[0m \u001b[0mprint\u001b[0m\u001b[1;33m(\u001b[0m\u001b[0mnp\u001b[0m\u001b[1;33m.\u001b[0m\u001b[0mmatmul\u001b[0m\u001b[1;33m(\u001b[0m\u001b[0ma\u001b[0m\u001b[1;33m,\u001b[0m\u001b[0mb\u001b[0m\u001b[1;33m)\u001b[0m\u001b[1;33m.\u001b[0m\u001b[0mshape\u001b[0m\u001b[1;33m)\u001b[0m\u001b[1;33m\u001b[0m\u001b[1;33m\u001b[0m\u001b[0m\n",
      "\u001b[1;31mValueError\u001b[0m: matmul: Input operand 1 has a mismatch in its core dimension 0, with gufunc signature (n?,k),(k,m?)->(n?,m?) (size 4 is different from 8)"
     ]
    }
   ],
   "source": [
    "print(np.matmul(a,b))\n",
    "print(np.matmul(a,b).shape)"
   ]
  },
  {
   "cell_type": "markdown",
   "metadata": {},
   "source": [
    "# dot과 matmul의 차이점\n",
    "1. dot은 행렬과 상수 곱셈이 적용되지만 \n",
    "   matmul은 행렬과 상수 곱셈이 적용되지 않는다.\n",
    "2. 3차원 이상 행렬 곱셈일 때, dot과 matmul은 output 타입이다르다.\n",
    "   ex)2*2*4, 2*4*2 일때,\n",
    "      dot -> 2*2*2*2\n",
    "      matmul -> 2*2*2\n",
    "* matmul은 a*b*c일 때, b*c행렬이 a개수만큼 있다로 이해하면 된다.\n",
    " 그리고 a*b*c*d일 때는 c*d행렬이 a*b개수만큼 있다로 이해??하면 된다."
   ]
  },
  {
   "cell_type": "markdown",
   "metadata": {},
   "source": [
    "# 4. tensorflow * operator\n",
    "-> Numpy와 동일하게 원소끼리 곱셉(element-wise multiplication)을 수행\n",
    "   동일한 차원끼리만 연산이 일어난다.\n",
    "   ex)3*4, 3*4 OK, 3*4, 4*3 No -> 3*4, (4*3).T OK"
   ]
  },
  {
   "cell_type": "code",
   "execution_count": 49,
   "metadata": {},
   "outputs": [],
   "source": [
    "import numpy as np\n",
    "import tensorflow as tf"
   ]
  },
  {
   "cell_type": "code",
   "execution_count": 50,
   "metadata": {},
   "outputs": [],
   "source": [
    "a = tf.constant(np.arange(6).reshape((2,3)))\n",
    "b = tf.constant(np.arange(6).reshape((3,2)))"
   ]
  },
  {
   "cell_type": "code",
   "execution_count": 51,
   "metadata": {},
   "outputs": [
    {
     "data": {
      "text/plain": [
       "<tf.Tensor 'mul_8:0' shape=(2, 3) dtype=int32>"
      ]
     },
     "execution_count": 51,
     "metadata": {},
     "output_type": "execute_result"
    }
   ],
   "source": [
    "c = a * tf.transpose(b)\n",
    "c"
   ]
  },
  {
   "cell_type": "markdown",
   "metadata": {},
   "source": [
    "# 5. tensorflow.matmul\n",
    "-> tensorflow에서 행렬곱을 할때는 tensorflow.matmul을 사용한다.\n",
    "-> ***첫번째 행렬의 열크기(column)과 두번째 행렬의 행크기(row)가 같아야함. 즉, 첫번째 행렬 맨뒤(dim 2)와 두번째 행렬 뒤에서 2번째(dim 1)가 같아야 함. -> ex) 23, 34 OK, 234, 243 OK, 238, 24*3 NO"
   ]
  },
  {
   "cell_type": "code",
   "execution_count": 52,
   "metadata": {},
   "outputs": [],
   "source": [
    "import numpy as np\n",
    "import tensorflow as tf\n",
    "import tensorflow.compat.v1 as tf  #tensorflow ver2 환경에서 tensorflow ver1환경이 돌아가게 해줌\n",
    "tf.disable_v2_behavior()            #tensorflow ver2 환경에서 tensorflow ver1환경이 돌아가게 해줌\n",
    "\n",
    "x = tf.placeholder(tf.float32, [None, 3])\n",
    "w = tf.Variable(tf.random_normal([3,2], mean=0, stddev=0.1))\n",
    "sess = tf.Session()\n",
    "sess.run(tf.global_variables_initializer())"
   ]
  },
  {
   "cell_type": "code",
   "execution_count": 53,
   "metadata": {},
   "outputs": [
    {
     "data": {
      "text/plain": [
       "<tf.Tensor 'MatMul_7:0' shape=(3, 3) dtype=float32>"
      ]
     },
     "execution_count": 53,
     "metadata": {},
     "output_type": "execute_result"
    }
   ],
   "source": [
    "H1 = tf.matmul(w,x)    # 3*2, none*3  ==> 3*3  NG\n",
    "H1"
   ]
  },
  {
   "cell_type": "code",
   "execution_count": 54,
   "metadata": {},
   "outputs": [
    {
     "data": {
      "text/plain": [
       "<tf.Tensor 'MatMul_8:0' shape=(?, 2) dtype=float32>"
      ]
     },
     "execution_count": 54,
     "metadata": {},
     "output_type": "execute_result"
    }
   ],
   "source": [
    "H2 = tf.matmul(x,w)    #none*3, 3*2 ==> none*2    OK\n",
    "H2"
   ]
  },
  {
   "cell_type": "markdown",
   "metadata": {},
   "source": [
    "# 6. tensorflow.multiply\n",
    "-> *연산자와 동일한 결과 출력"
   ]
  },
  {
   "cell_type": "code",
   "execution_count": 55,
   "metadata": {},
   "outputs": [],
   "source": [
    "import numpy as np\n",
    "import tensorflow as tf"
   ]
  },
  {
   "cell_type": "code",
   "execution_count": 56,
   "metadata": {},
   "outputs": [],
   "source": [
    "a = tf.constant(np.arange(6).reshape((2,3)))\n",
    "b = tf.constant(np.arange(6).reshape((2,3))) -1"
   ]
  },
  {
   "cell_type": "code",
   "execution_count": 57,
   "metadata": {},
   "outputs": [
    {
     "data": {
      "text/plain": [
       "array([[ 0,  0,  2],\n",
       "       [ 6, 12, 20]])"
      ]
     },
     "execution_count": 57,
     "metadata": {},
     "output_type": "execute_result"
    }
   ],
   "source": [
    "c = a * b\n",
    "sess.run(c)"
   ]
  },
  {
   "cell_type": "code",
   "execution_count": 58,
   "metadata": {},
   "outputs": [
    {
     "data": {
      "text/plain": [
       "array([[ 0,  0,  2],\n",
       "       [ 6, 12, 20]])"
      ]
     },
     "execution_count": 58,
     "metadata": {},
     "output_type": "execute_result"
    }
   ],
   "source": [
    "d = tf.multiply(a,b)\n",
    "sess.run(d)"
   ]
  }
 ],
 "metadata": {
  "kernelspec": {
   "display_name": "Python 3",
   "language": "python",
   "name": "python3"
  },
  "language_info": {
   "codemirror_mode": {
    "name": "ipython",
    "version": 3
   },
   "file_extension": ".py",
   "mimetype": "text/x-python",
   "name": "python",
   "nbconvert_exporter": "python",
   "pygments_lexer": "ipython3",
   "version": "3.6.9"
  }
 },
 "nbformat": 4,
 "nbformat_minor": 2
}

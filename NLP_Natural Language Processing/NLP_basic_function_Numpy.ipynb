{
 "cells": [
  {
   "cell_type": "markdown",
   "metadata": {},
   "source": [
    "# 넘파이(Numpy)\n",
    "- 수치 데이터를 다루는 패키지\n",
    "- 다차원 행렬 자료구조인 ndarray를 통해 벡터 및 행렬을 사용하여 선형 대수 계산\n",
    "[주요 모듈]<br>\n",
    "1. np.array() -리스트, 튜플, 배열로 부터 ndarray를 생성\n",
    "2. np.asarray() -기존 array로 부터 ndarray를 생성\n",
    "3. np.arange() -range와 비슷\n",
    "4. np.linspace(start, end, num) -[start, end] 균일한 간격으로 num개 생성\n",
    "5. np.logspace(start, end, num) -[start, end] log scale 간격으로 num개 생성"
   ]
  },
  {
   "cell_type": "code",
   "execution_count": 3,
   "metadata": {},
   "outputs": [
    {
     "data": {
      "text/plain": [
       "'1.17.2'"
      ]
     },
     "execution_count": 3,
     "metadata": {},
     "output_type": "execute_result"
    }
   ],
   "source": [
    "import numpy as np\n",
    "np.__version__"
   ]
  },
  {
   "cell_type": "markdown",
   "metadata": {},
   "source": [
    "# 1. np.array()</br>"
   ]
  },
  {
   "cell_type": "code",
   "execution_count": 8,
   "metadata": {},
   "outputs": [
    {
     "name": "stdout",
     "output_type": "stream",
     "text": [
      "<class 'numpy.ndarray'>\n",
      "[1 2 3 4 5]\n",
      "1\n",
      "(5,)\n"
     ]
    }
   ],
   "source": [
    "a = np.array([1,2,3,4,5])\n",
    "print(type(a))\n",
    "print(a)\n",
    "print(a.ndim)\n",
    "print(a.shape)    #크기 5의 배열 (5,)"
   ]
  },
  {
   "cell_type": "code",
   "execution_count": 7,
   "metadata": {},
   "outputs": [
    {
     "name": "stdout",
     "output_type": "stream",
     "text": [
      "[[10 20 30]\n",
      " [60 70 80]]\n",
      "2\n",
      "(2, 3)\n"
     ]
    }
   ],
   "source": [
    "b = np.array([[10,20,30], [60,70,80]])\n",
    "print(b)\n",
    "print(b.ndim)   #차원출력\n",
    "print(b.shape)   #형상출력"
   ]
  },
  {
   "cell_type": "code",
   "execution_count": 15,
   "metadata": {},
   "outputs": [
    {
     "name": "stdout",
     "output_type": "stream",
     "text": [
      "[[0. 0. 0.]\n",
      " [0. 0. 0.]]\n",
      "[[1. 1. 1.]\n",
      " [1. 1. 1.]]\n",
      "[[7 7 7]\n",
      " [7 7 7]]\n",
      "[[1. 0. 0.]\n",
      " [0. 1. 0.]\n",
      " [0. 0. 1.]]\n",
      "[[0.71682524 0.9128714  0.28299504]\n",
      " [0.09021624 0.06983259 0.63496685]]\n"
     ]
    }
   ],
   "source": [
    "#ndarray 초기화\n",
    "a = np.zeros((2,3))\n",
    "print(a)\n",
    "b = np.ones((2,3))\n",
    "print(b)\n",
    "c = np.full((2,3), 7)   #상수 7로 배열 생성\n",
    "print(c)\n",
    "d = np.eye(3)    #대각선으로는 1이고 나머지는 0인 배열\n",
    "print(d)\n",
    "e = np.random.random((2,3))\n",
    "print(e)"
   ]
  },
  {
   "cell_type": "markdown",
   "metadata": {},
   "source": [
    "# 2. np.arange()\n",
    "- 지정해준 범위에 대해서 배열을 생성\n",
    "- numpy.arange(start, stop, step, dtype)<br>\n",
    "a = np.arange(n) # 0, ..., n-1까지 범위의 지정<br>\n",
    "a = np.arange(i, j, k) # i부터 j-1까지 k씩 증가하는 배열."
   ]
  },
  {
   "cell_type": "code",
   "execution_count": 16,
   "metadata": {},
   "outputs": [
    {
     "name": "stdout",
     "output_type": "stream",
     "text": [
      "[0 1 2 3 4 5 6 7 8 9]\n",
      "[1 3 5 7 9]\n"
     ]
    }
   ],
   "source": [
    "a = np.arange(10)\n",
    "print(a)\n",
    "b = np.arange(1, 10, 2)\n",
    "print(b)"
   ]
  },
  {
   "cell_type": "code",
   "execution_count": 17,
   "metadata": {},
   "outputs": [
    {
     "name": "stdout",
     "output_type": "stream",
     "text": [
      "[[ 0  1  2  3  4  5]\n",
      " [ 6  7  8  9 10 11]\n",
      " [12 13 14 15 16 17]\n",
      " [18 19 20 21 22 23]\n",
      " [24 25 26 27 28 29]]\n"
     ]
    }
   ],
   "source": [
    "#reshape()\n",
    "a = np.array(np.arange(30)).reshape((5,6))\n",
    "print(a)"
   ]
  },
  {
   "cell_type": "code",
   "execution_count": 27,
   "metadata": {},
   "outputs": [
    {
     "name": "stdout",
     "output_type": "stream",
     "text": [
      "[[1 2 3]\n",
      " [4 5 6]]\n",
      "-------------\n",
      "[[1 2]\n",
      " [4 5]]\n",
      "----1행의 모든 열---------\n",
      "[1 2 3]\n",
      "----행 상관없이 두번째 열출력-------\n",
      "[2 5]\n"
     ]
    }
   ],
   "source": [
    "#Numpy 슬라이싱\n",
    "a = np.array([[1,2,3],[4,5,6]])\n",
    "print(a)\n",
    "print(\"-------------\")\n",
    "b = a[0:2, 0:2]\n",
    "print(b)\n",
    "print(\"----1행의 모든 열---------\")\n",
    "c = a[0, :]\n",
    "print(c)\n",
    "print(\"----행 상관없이 두번째 열출력-------\")\n",
    "d = a[:, 1]\n",
    "print(d)"
   ]
  },
  {
   "cell_type": "code",
   "execution_count": 30,
   "metadata": {},
   "outputs": [
    {
     "name": "stdout",
     "output_type": "stream",
     "text": [
      "[[1 2]\n",
      " [4 5]\n",
      " [7 8]]\n",
      "--------------\n",
      "[8 4]\n"
     ]
    }
   ],
   "source": [
    "#Numpy 정수 인덱싱\n",
    "a = np.array([[1,2],[4,5],[7,8]])\n",
    "print(a)\n",
    "print(\"--------------\")\n",
    "b = a[[2,1],[1,0]]    #a[[행2, 열1], [행1, 열0]]\n",
    "print(b)"
   ]
  },
  {
   "cell_type": "code",
   "execution_count": 39,
   "metadata": {},
   "outputs": [
    {
     "name": "stdout",
     "output_type": "stream",
     "text": [
      "[5 7 9] [5 7 9]\n",
      "---------------\n",
      "[-3 -3 -3] [-3 -3 -3]\n",
      "---------------\n",
      "[ 4 10 18] [ 4 10 18]\n",
      "---------------\n",
      "[0.25 0.4  0.5 ] [0.25 0.4  0.5 ]\n"
     ]
    }
   ],
   "source": [
    "#Numpy 연산\n",
    "#+, -, *, /의 연산자를 사용\n",
    "#add(), subtract(), multiply(), divide() 함수를 사용\n",
    "x = np.array([1,2,3])\n",
    "y = np.array([4,5,6])\n",
    "b = x + y\n",
    "c = np.add(x, y)\n",
    "print(b, c)\n",
    "print(\"---------------\")\n",
    "d = x - y\n",
    "e = np.subtract(x, y)\n",
    "print(d, e)\n",
    "print(\"---------------\")\n",
    "f = x * y\n",
    "g = np.multiply(x, y)\n",
    "print(f, g)\n",
    "print(\"---------------\")\n",
    "h = x / y\n",
    "i = np.divide(x, y)\n",
    "print(h, i)"
   ]
  },
  {
   "cell_type": "code",
   "execution_count": 44,
   "metadata": {},
   "outputs": [
    {
     "name": "stdout",
     "output_type": "stream",
     "text": [
      "[[19 22]\n",
      " [43 50]]\n",
      "-----행렬곱과 곱은 다르죠?-------\n",
      "[[ 5 12]\n",
      " [21 32]]\n"
     ]
    }
   ],
   "source": [
    "#***행렬 곱\n",
    "a = np.array([[1,2],[3,4]])\n",
    "b = np.array([[5,6],[7,8]])\n",
    "c = np.dot(a, b)\n",
    "print(c)\n",
    "print(\"-----행렬곱과 곱은 다르죠?-------\")\n",
    "d = a*b\n",
    "print(d)"
   ]
  },
  {
   "cell_type": "code",
   "execution_count": null,
   "metadata": {},
   "outputs": [],
   "source": []
  }
 ],
 "metadata": {
  "kernelspec": {
   "display_name": "Python 3",
   "language": "python",
   "name": "python3"
  },
  "language_info": {
   "codemirror_mode": {
    "name": "ipython",
    "version": 3
   },
   "file_extension": ".py",
   "mimetype": "text/x-python",
   "name": "python",
   "nbconvert_exporter": "python",
   "pygments_lexer": "ipython3",
   "version": "3.6.9"
  }
 },
 "nbformat": 4,
 "nbformat_minor": 2
}

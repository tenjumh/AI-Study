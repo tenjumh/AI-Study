{
 "cells": [
  {
   "cell_type": "markdown",
   "metadata": {},
   "source": [
    "# 벡터와 행렬 연산\n",
    "<b><h2> 1. 벡터와 행렬과 텐서</h2></b>\n",
    "- 벡터는 크기와 방향을 가진 양, 숫자가 나열된 형상\n",
    "- 파이썬에서는 1차원 배열 또는 리스트로 표현\n",
    "- 행렬은 행과 열을 가진 2차원 형상이며 파이썬에서는 2차원 배열로 표현\n",
    "- 3차원부터는 텐서라고 부름\n",
    "\n",
    "<b><h2> 2. 텐서</h2></b>"
   ]
  },
  {
   "cell_type": "code",
   "execution_count": 1,
   "metadata": {},
   "outputs": [],
   "source": [
    "import numpy as np"
   ]
  },
  {
   "cell_type": "code",
   "execution_count": 2,
   "metadata": {},
   "outputs": [
    {
     "name": "stdout",
     "output_type": "stream",
     "text": [
      "0\n",
      "()\n"
     ]
    }
   ],
   "source": [
    "# 1) 0차원 텐서 : 스칼라\n",
    "d = np.array(5)\n",
    "print(d.ndim)\n",
    "print(d.shape)"
   ]
  },
  {
   "cell_type": "code",
   "execution_count": 3,
   "metadata": {},
   "outputs": [
    {
     "name": "stdout",
     "output_type": "stream",
     "text": [
      "1\n",
      "(4,)\n"
     ]
    }
   ],
   "source": [
    "# 2) 1차원 텐서 : 벡터\n",
    "d = np.array([1,2,3,4])\n",
    "print(d.ndim)\n",
    "print(d.shape)"
   ]
  },
  {
   "cell_type": "code",
   "execution_count": 4,
   "metadata": {},
   "outputs": [
    {
     "name": "stdout",
     "output_type": "stream",
     "text": [
      "2\n",
      "(3, 4)\n"
     ]
    }
   ],
   "source": [
    "# 3) 2차원 텐서 : 행렬\n",
    "d = np.array([[1, 2, 3, 4], [5, 6, 7, 8], [9, 10, 11, 12]])\n",
    "print(d.ndim)\n",
    "print(d.shape)"
   ]
  },
  {
   "cell_type": "code",
   "execution_count": 5,
   "metadata": {},
   "outputs": [
    {
     "name": "stdout",
     "output_type": "stream",
     "text": [
      "3\n",
      "(2, 3, 5)\n"
     ]
    }
   ],
   "source": [
    "# 4) 3차원 텐서\n",
    "d=np.array([\n",
    "            [[1, 2, 3, 4, 5], [6, 7, 8, 9, 10], [10, 11, 12, 13, 14]],\n",
    "            [[15, 16, 17, 18, 19], [19, 20, 21, 22, 23], [23, 24, 25, 26, 27]]\n",
    "            ])\n",
    "print(d.ndim)\n",
    "print(d.shape)"
   ]
  },
  {
   "cell_type": "markdown",
   "metadata": {},
   "source": [
    "- 3D 텐서는 시퀀스 데이터를 표현할 때 사용\n",
    "- 시퀀스 데이터는 주로 단어의 시퀀스를 의미, 시퀀스는 문장, 문서, 뉴스 기사의 텍스트\n",
    "- 3D 텐서 (samples, timesteps, word_dim) 또는 데이터를 묶는 단위인 (batch_size, timesteps, word_dim)   \n",
    "* samples/batch_size : 데이터의 개수<br>\n",
    "* timesteps : 시퀀스의 길이<br>\n",
    "* word_dim : 단어를 표현하는 벡터의 차원<br>\n",
    "\n",
    "- 예<br>\n",
    "    - 문서1 : I like NLP<br>\n",
    "    - 문서2 : I like DL<br>\n",
    "    - 문서3 : DL is AI<br>\n",
    "- 입력을 위해 단어를 벡터화해아함. 단어 벡터화 : 원-핫 인코딩, 워드 임베딩 방법<br>\n",
    "- 여기서는 원-핫 인코딩으로 단어 벡터화<br>\n",
    "I - [1 0 0 0 0 0]<br>\n",
    "like - [0 1 0 0 0 0]<br>\n",
    "NLP - [0 0 1 0 0 0]<br>\n",
    "DL - [0 0 0 1 0 0]<br>\n",
    "is - [0 0 0 0 1 0]<br>\n",
    "AI - [0 0 0 0 0 1]<br>\n",
    "<br>\n",
    "- 예제를 입력데이터로 바꾸면, (3,3,6) 크기를 가지는 3D 텐서가 된다.<br>\n",
    "[[[1, 0, 0, 0, 0, 0], [0, 1, 0, 0, 0, 0], [0, 0, 1, 0, 0, 0]],<br>\n",
    "[[1, 0, 0, 0, 0, 0], [0, 1, 0, 0, 0, 0], [0, 0, 0, 1, 0, 0]],<br>\n",
    "[[0, 0, 0, 1, 0, 0], [0, 0, 0, 0, 1, 0], [0, 0, 0, 0, 0, 1]]]<br>\n",
    "<br>\n",
    "- <b> 그 이상의 텐서</b>\n",
    "\n",
    "![행렬](https://github.com/tenjumh/GraduateSchool/blob/master/Study/NLP_Natural%20Language%20Processing/image/%EB%8B%A4%EC%96%91%ED%95%9C%ED%85%90%EC%84%9C%EA%B7%B8%EB%A6%BC.PNG?raw=True)"
   ]
  },
  {
   "cell_type": "markdown",
   "metadata": {},
   "source": [
    "<b><h2> 3. 벡터와 행렬의 연산</h2></b>"
   ]
  },
  {
   "cell_type": "markdown",
   "metadata": {},
   "source": [
    "<b>1) 벡터와 행렬의 덧셈과 뺄셈</b>"
   ]
  },
  {
   "cell_type": "code",
   "execution_count": 9,
   "metadata": {},
   "outputs": [
    {
     "name": "stdout",
     "output_type": "stream",
     "text": [
      "[9 6 8]\n",
      "[7 2 2]\n"
     ]
    }
   ],
   "source": [
    "import numpy as np\n",
    "a = np.array([8,4,5])\n",
    "b = np.array([1,2,3])\n",
    "print(a+b)\n",
    "print(a-b)"
   ]
  },
  {
   "cell_type": "code",
   "execution_count": 10,
   "metadata": {},
   "outputs": [
    {
     "name": "stdout",
     "output_type": "stream",
     "text": [
      "[[15 26 37 48]\n",
      " [51 62 73 84]]\n",
      "[[ 5 14 23 32]\n",
      " [49 58 67 76]]\n"
     ]
    }
   ],
   "source": [
    "import numpy as np\n",
    "a = np.array([[10, 20, 30, 40], [50, 60, 70, 80]])\n",
    "b = np.array([[5, 6, 7, 8],[1, 2, 3, 4]])\n",
    "print(a+b)\n",
    "print(a-b)"
   ]
  },
  {
   "cell_type": "markdown",
   "metadata": {},
   "source": [
    "<b>2) 벡터와 내적과 행렬의 곱셈</b>"
   ]
  },
  {
   "cell_type": "code",
   "execution_count": 18,
   "metadata": {},
   "outputs": [
    {
     "name": "stdout",
     "output_type": "stream",
     "text": [
      "32\n",
      "(3,)\n",
      "(3,)\n",
      "()\n"
     ]
    }
   ],
   "source": [
    "a = np.array([1, 2, 3])\n",
    "b = np.array([4, 5, 6])\n",
    "print(np.dot(a,b))\n",
    "print(a.shape)\n",
    "print(b.shape)"
   ]
  },
  {
   "cell_type": "code",
   "execution_count": 19,
   "metadata": {},
   "outputs": [
    {
     "name": "stdout",
     "output_type": "stream",
     "text": [
      "[[23 31]\n",
      " [34 46]]\n"
     ]
    }
   ],
   "source": [
    "import numpy as np\n",
    "a = np.array([[1, 3],[2, 4]])\n",
    "b = np.array([[5, 7],[6, 8]])\n",
    "print(np.matmul(a,b))"
   ]
  },
  {
   "cell_type": "markdown",
   "metadata": {},
   "source": [
    "<b><h2> 4. 다중 선형 회귀 행렬 연산으로 이해하기</h2></b>"
   ]
  },
  {
   "cell_type": "markdown",
   "metadata": {},
   "source": [
    "- 데이터의 개수가 많을 경우에는 벡터의 내적이 아니라 행렬의 곱셈으로 표현이 가능\n",
    "- 다중 선형 회귀에서 데이터의 개수가 여러개일 때, 행렬의 곱셈으로 어떻게 표현할 수 있는지 예\n",
    "- 집의 크기, 방의 수, 층의 수, 집이 얼마나 오래되었는지와 집의 가격이 기록된 부동산 데이터라고 가정하고 데이터를 학습하여 새로운 집의 정보가 들어왔을 때, 집가격을 예측\n",
    "\n",
    "![행렬](https://github.com/tenjumh/GraduateSchool/blob/master/Study/NLP_Natural%20Language%20Processing/image/%EC%A7%91%EA%B0%92%20%EC%98%88%EC%B8%A1%20%EC%98%88%EC%A0%9C.PNG?raw=True)\n",
    "\n",
    "- 위의 데이터를 입력행렬(X)와 가중치벡터(W)의 곱으로 표현\n",
    "![행렬](https://github.com/tenjumh/GraduateSchool/blob/master/Study/NLP_Natural%20Language%20Processing/image/%EC%A7%91%EA%B0%92%20%EC%98%88%EC%B8%A1%20%EC%98%88%EC%A0%9C%201.PNG?raw=True)\n",
    "\n",
    "- 위의 표현식에 편향 벡터(B)를 더해주면 가설 수식 H(X)를 표현\n",
    "![행렬](https://github.com/tenjumh/GraduateSchool/blob/master/Study/NLP_Natural%20Language%20Processing/image/%EC%A7%91%EA%B0%92%20%EC%98%88%EC%B8%A1%20%EC%98%88%EC%A0%9C%202.PNG?raw=True)\n",
    "- <b><h2> H(X) = XW + B </h2></b>\n",
    "- X (5X4행렬), Y (5X1행렬) 그렇다면 W는 (5X4)행렬곱(4X1)이어야 (5X1)을 얻음, 추가로 B는 (5X1)이여야 함.\n",
    "- 그런데 수학적인 관례로 아래와 같은 수식으로 표현할 때, W가 입력X의 앞에 올 경우도 있어 둘다 알아야 한다.\n",
    "- <b><h2> H(X) = WX + B </h2></b>\n",
    "![행렬](https://github.com/tenjumh/GraduateSchool/blob/master/Study/NLP_Natural%20Language%20Processing/image/%EC%A7%91%EA%B0%92%20%EC%98%88%EC%B8%A1%20%EC%98%88%EC%A0%9C%203.PNG?raw=True)"
   ]
  },
  {
   "cell_type": "markdown",
   "metadata": {},
   "source": [
    "<b><h2> 5. 샘플(Sample)과 특성(Feature)</h2></b>\n",
    "- 훈련 데이터의 입력 행렬을 X라고 하였을 때 샘플(Sample)과 특성(Feature)의 정의\n",
    "![행렬](https://github.com/tenjumh/GraduateSchool/blob/master/Study/NLP_Natural%20Language%20Processing/image/%EC%83%98%ED%94%8C%EA%B3%BC%20%ED%8A%B9%EC%84%B1.PNG?raw=True)\n",
    "- 샘플 : 데이터를 셀 수 있는 단위로 구분\n",
    "- 종속변수 y를 예측하기 위한 각각의 독립 변수 x를 특성이라고 부름"
   ]
  },
  {
   "cell_type": "markdown",
   "metadata": {},
   "source": [
    "<b><h2> 6. 가중치와 편향 행렬의 크기 결정</h2></b>\n",
    "- 특성을 행렬의 열로 보는 경우를 가정하여 행렬의 크기가 어떻게 결정되는지 정리\n",
    "- 행렬곱은 두 가지 정의를 가지는데, 두 개의 행렬 J와 K의 곱은 다음 조건 충족\n",
    "    1) 두 행렬의 곱 J x K에 대하여 행렬 J의 열의 수와 행렬 K의 행의 수 동일\n",
    "    2) 두 행렬의 곱 J x K의 결과로 나온 행렬 JK의 크기는 J의 행과 K의 열의 크기\n",
    "![행렬](https://github.com/tenjumh/GraduateSchool/blob/master/Study/NLP_Natural%20Language%20Processing/image/%EA%B0%80%EC%A4%91%EC%B9%98%EC%99%80%20%ED%8E%B8%ED%96%A5%ED%96%89%EB%A0%AC%EC%9D%98%20%ED%81%AC%EA%B8%B0.PNG?raw=True)\n",
    "![행렬](https://github.com/tenjumh/GraduateSchool/blob/master/Study/NLP_Natural%20Language%20Processing/image/%EA%B0%80%EC%A4%91%EC%B9%98%EC%99%80%20%ED%8E%B8%ED%96%A5%ED%96%89%EB%A0%AC%EC%9D%98%20%ED%81%AC%EA%B8%B02.PNG?raw=True)\n",
    "![행렬](https://github.com/tenjumh/GraduateSchool/blob/master/Study/NLP_Natural%20Language%20Processing/image/%EA%B0%80%EC%A4%91%EC%B9%98%EC%99%80%20%ED%8E%B8%ED%96%A5%ED%96%89%EB%A0%AC%EC%9D%98%20%ED%81%AC%EA%B8%B03.PNG?raw=True)\n",
    "![행렬](https://github.com/tenjumh/GraduateSchool/blob/master/Study/NLP_Natural%20Language%20Processing/image/%EA%B0%80%EC%A4%91%EC%B9%98%EC%99%80%20%ED%8E%B8%ED%96%A5%ED%96%89%EB%A0%AC%EC%9D%98%20%ED%81%AC%EA%B8%B04.PNG?raw=True)"
   ]
  }
 ],
 "metadata": {
  "kernelspec": {
   "display_name": "Python 3",
   "language": "python",
   "name": "python3"
  },
  "language_info": {
   "codemirror_mode": {
    "name": "ipython",
    "version": 3
   },
   "file_extension": ".py",
   "mimetype": "text/x-python",
   "name": "python",
   "nbconvert_exporter": "python",
   "pygments_lexer": "ipython3",
   "version": "3.6.9"
  }
 },
 "nbformat": 4,
 "nbformat_minor": 2
}

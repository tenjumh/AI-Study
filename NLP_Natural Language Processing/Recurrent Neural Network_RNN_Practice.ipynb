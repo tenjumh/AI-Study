{
 "cells": [
  {
   "cell_type": "code",
   "execution_count": 2,
   "metadata": {},
   "outputs": [
    {
     "name": "stderr",
     "output_type": "stream",
     "text": [
      "C:\\Anaconda3\\envs\\nlp\\lib\\site-packages\\tensorflow\\python\\framework\\dtypes.py:526: FutureWarning: Passing (type, 1) or '1type' as a synonym of type is deprecated; in a future version of numpy, it will be understood as (type, (1,)) / '(1,)type'.\n",
      "  _np_qint8 = np.dtype([(\"qint8\", np.int8, 1)])\n",
      "C:\\Anaconda3\\envs\\nlp\\lib\\site-packages\\tensorflow\\python\\framework\\dtypes.py:527: FutureWarning: Passing (type, 1) or '1type' as a synonym of type is deprecated; in a future version of numpy, it will be understood as (type, (1,)) / '(1,)type'.\n",
      "  _np_quint8 = np.dtype([(\"quint8\", np.uint8, 1)])\n",
      "C:\\Anaconda3\\envs\\nlp\\lib\\site-packages\\tensorflow\\python\\framework\\dtypes.py:528: FutureWarning: Passing (type, 1) or '1type' as a synonym of type is deprecated; in a future version of numpy, it will be understood as (type, (1,)) / '(1,)type'.\n",
      "  _np_qint16 = np.dtype([(\"qint16\", np.int16, 1)])\n",
      "C:\\Anaconda3\\envs\\nlp\\lib\\site-packages\\tensorflow\\python\\framework\\dtypes.py:529: FutureWarning: Passing (type, 1) or '1type' as a synonym of type is deprecated; in a future version of numpy, it will be understood as (type, (1,)) / '(1,)type'.\n",
      "  _np_quint16 = np.dtype([(\"quint16\", np.uint16, 1)])\n",
      "C:\\Anaconda3\\envs\\nlp\\lib\\site-packages\\tensorflow\\python\\framework\\dtypes.py:530: FutureWarning: Passing (type, 1) or '1type' as a synonym of type is deprecated; in a future version of numpy, it will be understood as (type, (1,)) / '(1,)type'.\n",
      "  _np_qint32 = np.dtype([(\"qint32\", np.int32, 1)])\n",
      "C:\\Anaconda3\\envs\\nlp\\lib\\site-packages\\tensorflow\\python\\framework\\dtypes.py:535: FutureWarning: Passing (type, 1) or '1type' as a synonym of type is deprecated; in a future version of numpy, it will be understood as (type, (1,)) / '(1,)type'.\n",
      "  np_resource = np.dtype([(\"resource\", np.ubyte, 1)])\n"
     ]
    }
   ],
   "source": [
    "from tensorflow.keras.preprocessing.text import Tokenizer\n",
    "from tensorflow.keras.preprocessing.sequence import pad_sequences\n",
    "import numpy as np\n",
    "from tensorflow.keras.utils import to_categorical"
   ]
  },
  {
   "cell_type": "code",
   "execution_count": 3,
   "metadata": {},
   "outputs": [],
   "source": [
    "text=\"\"\"경마장에 있는 말이 뛰고 있다\\n\n",
    "그의 말이 법이다\\n\n",
    "가는 말이 고와야 오는 말이 곱다\\n\"\"\""
   ]
  },
  {
   "cell_type": "code",
   "execution_count": 4,
   "metadata": {},
   "outputs": [],
   "source": [
    "t = Tokenizer()\n",
    "t.fit_on_texts([text])"
   ]
  },
  {
   "cell_type": "code",
   "execution_count": 5,
   "metadata": {},
   "outputs": [
    {
     "name": "stdout",
     "output_type": "stream",
     "text": [
      "단어 집합의 크기 : 12\n"
     ]
    }
   ],
   "source": [
    "vocab_size = len(t.word_index) + 1\n",
    "print('단어 집합의 크기 : %d'%vocab_size)"
   ]
  },
  {
   "cell_type": "code",
   "execution_count": 6,
   "metadata": {},
   "outputs": [
    {
     "name": "stdout",
     "output_type": "stream",
     "text": [
      "{'말이': 1, '경마장에': 2, '있는': 3, '뛰고': 4, '있다': 5, '그의': 6, '법이다': 7, '가는': 8, '고와야': 9, '오는': 10, '곱다': 11}\n"
     ]
    }
   ],
   "source": [
    "# 단어와 단어에 부여된 정수 인덱스 출력\n",
    "print(t.word_index)"
   ]
  },
  {
   "cell_type": "code",
   "execution_count": 7,
   "metadata": {},
   "outputs": [
    {
     "name": "stdout",
     "output_type": "stream",
     "text": [
      "학습에 사용할 샘플의 수 : 11\n"
     ]
    }
   ],
   "source": [
    "# 훈력데이터 생성\n",
    "sequences = list()\n",
    "for line in text.split('\\n'):   # \\n기준으로 문장 토큰화\n",
    "    encoded = t.texts_to_sequences([line])[0]\n",
    "    for i in range(1, len(encoded)):\n",
    "        sequence = encoded[:i+1]\n",
    "        sequences.append(sequence)\n",
    "        \n",
    "print('학습에 사용할 샘플의 수 : %d'%len(sequences))"
   ]
  },
  {
   "cell_type": "code",
   "execution_count": 8,
   "metadata": {},
   "outputs": [
    {
     "name": "stdout",
     "output_type": "stream",
     "text": [
      "[[2, 3], [2, 3, 1], [2, 3, 1, 4], [2, 3, 1, 4, 5], [6, 1], [6, 1, 7], [8, 1], [8, 1, 9], [8, 1, 9, 10], [8, 1, 9, 10, 1], [8, 1, 9, 10, 1, 11]]\n"
     ]
    }
   ],
   "source": [
    "print(sequences)"
   ]
  },
  {
   "cell_type": "markdown",
   "metadata": {},
   "source": [
    "- 상기 리스트는 label로 사용될 단어 분리되지 않은 상태\n",
    "- [2,3]은 [경마장에, 있는]이며 우측의 데이터를 label로 사용\n",
    "- 모든 상품에 대해 길이 일치 : 즉 가장 긴 샘플의 길이를 찾자"
   ]
  },
  {
   "cell_type": "code",
   "execution_count": 9,
   "metadata": {},
   "outputs": [
    {
     "name": "stdout",
     "output_type": "stream",
     "text": [
      "최대 길이:6\n"
     ]
    }
   ],
   "source": [
    "max_len = max(len(l) for l in sequences)\n",
    "print(\"최대 길이:{}\".format(max_len))"
   ]
  },
  {
   "cell_type": "markdown",
   "metadata": {},
   "source": [
    "- 모든 샘플에 대해서 0으로 패딩하여 길이 맞춰줌"
   ]
  },
  {
   "cell_type": "code",
   "execution_count": 10,
   "metadata": {},
   "outputs": [],
   "source": [
    "sequences = pad_sequences(sequences, maxlen=max_len, padding='pre')\n",
    "# pad_sequences() 모든 샘플에 대해서 \"0\"으로 패딩\n",
    "# maxlen : 길이 설정\n",
    "# padding='pre' : 앞쪽으로 패딩"
   ]
  },
  {
   "cell_type": "code",
   "execution_count": 11,
   "metadata": {},
   "outputs": [
    {
     "name": "stdout",
     "output_type": "stream",
     "text": [
      "[[ 0  0  0  0  2  3]\n",
      " [ 0  0  0  2  3  1]\n",
      " [ 0  0  2  3  1  4]\n",
      " [ 0  2  3  1  4  5]\n",
      " [ 0  0  0  0  6  1]\n",
      " [ 0  0  0  6  1  7]\n",
      " [ 0  0  0  0  8  1]\n",
      " [ 0  0  0  8  1  9]\n",
      " [ 0  0  8  1  9 10]\n",
      " [ 0  8  1  9 10  1]\n",
      " [ 8  1  9 10  1 11]]\n"
     ]
    }
   ],
   "source": [
    "print(sequences)"
   ]
  },
  {
   "cell_type": "markdown",
   "metadata": {},
   "source": [
    "- Label 분리"
   ]
  },
  {
   "cell_type": "code",
   "execution_count": 12,
   "metadata": {},
   "outputs": [
    {
     "name": "stdout",
     "output_type": "stream",
     "text": [
      "[[ 0  0  0  0  2]\n",
      " [ 0  0  0  2  3]\n",
      " [ 0  0  2  3  1]\n",
      " [ 0  2  3  1  4]\n",
      " [ 0  0  0  0  6]\n",
      " [ 0  0  0  6  1]\n",
      " [ 0  0  0  0  8]\n",
      " [ 0  0  0  8  1]\n",
      " [ 0  0  8  1  9]\n",
      " [ 0  8  1  9 10]\n",
      " [ 8  1  9 10  1]]\n",
      "[ 3  1  4  5  1  7  1  9 10  1 11]\n"
     ]
    }
   ],
   "source": [
    "sequences = np.array(sequences)\n",
    "X = sequences[:,:-1]\n",
    "Y = sequences[:,-1]\n",
    "print(X)\n",
    "print(Y)"
   ]
  },
  {
   "cell_type": "markdown",
   "metadata": {},
   "source": [
    "- Label에 대해서 원-핫 인코딩"
   ]
  },
  {
   "cell_type": "code",
   "execution_count": 13,
   "metadata": {},
   "outputs": [
    {
     "name": "stdout",
     "output_type": "stream",
     "text": [
      "[[0. 0. 0. 1. 0. 0. 0. 0. 0. 0. 0. 0.]\n",
      " [0. 1. 0. 0. 0. 0. 0. 0. 0. 0. 0. 0.]\n",
      " [0. 0. 0. 0. 1. 0. 0. 0. 0. 0. 0. 0.]\n",
      " [0. 0. 0. 0. 0. 1. 0. 0. 0. 0. 0. 0.]\n",
      " [0. 1. 0. 0. 0. 0. 0. 0. 0. 0. 0. 0.]\n",
      " [0. 0. 0. 0. 0. 0. 0. 1. 0. 0. 0. 0.]\n",
      " [0. 1. 0. 0. 0. 0. 0. 0. 0. 0. 0. 0.]\n",
      " [0. 0. 0. 0. 0. 0. 0. 0. 0. 1. 0. 0.]\n",
      " [0. 0. 0. 0. 0. 0. 0. 0. 0. 0. 1. 0.]\n",
      " [0. 1. 0. 0. 0. 0. 0. 0. 0. 0. 0. 0.]\n",
      " [0. 0. 0. 0. 0. 0. 0. 0. 0. 0. 0. 1.]]\n"
     ]
    }
   ],
   "source": [
    "y = to_categorical(Y, num_classes=vocab_size)\n",
    "print(y)"
   ]
  },
  {
   "cell_type": "markdown",
   "metadata": {},
   "source": [
    "## 모델설계하기"
   ]
  },
  {
   "cell_type": "code",
   "execution_count": 14,
   "metadata": {},
   "outputs": [],
   "source": [
    "from tensorflow.keras.models import Sequential\n",
    "from tensorflow.keras.layers import Embedding, Dense, SimpleRNN"
   ]
  },
  {
   "cell_type": "code",
   "execution_count": 15,
   "metadata": {},
   "outputs": [
    {
     "name": "stdout",
     "output_type": "stream",
     "text": [
      "WARNING:tensorflow:From C:\\Anaconda3\\envs\\nlp\\lib\\site-packages\\tensorflow\\python\\ops\\resource_variable_ops.py:435: colocate_with (from tensorflow.python.framework.ops) is deprecated and will be removed in a future version.\n",
      "Instructions for updating:\n",
      "Colocations handled automatically by placer.\n",
      "WARNING:tensorflow:From C:\\Anaconda3\\envs\\nlp\\lib\\site-packages\\tensorflow\\python\\ops\\math_ops.py:3066: to_int32 (from tensorflow.python.ops.math_ops) is deprecated and will be removed in a future version.\n",
      "Instructions for updating:\n",
      "Use tf.cast instead.\n",
      "Epoch 1/200\n",
      " - 0s - loss: 2.4581 - acc: 0.1818\n",
      "Epoch 2/200\n",
      " - 0s - loss: 2.4445 - acc: 0.2727\n",
      "Epoch 3/200\n",
      " - 0s - loss: 2.4308 - acc: 0.2727\n",
      "Epoch 4/200\n",
      " - 0s - loss: 2.4168 - acc: 0.2727\n",
      "Epoch 5/200\n",
      " - 0s - loss: 2.4025 - acc: 0.3636\n",
      "Epoch 6/200\n",
      " - 0s - loss: 2.3877 - acc: 0.4545\n",
      "Epoch 7/200\n",
      " - 0s - loss: 2.3724 - acc: 0.4545\n",
      "Epoch 8/200\n",
      " - 0s - loss: 2.3566 - acc: 0.4545\n",
      "Epoch 9/200\n",
      " - 0s - loss: 2.3402 - acc: 0.4545\n",
      "Epoch 10/200\n",
      " - 0s - loss: 2.3232 - acc: 0.4545\n",
      "Epoch 11/200\n",
      " - 0s - loss: 2.3056 - acc: 0.4545\n",
      "Epoch 12/200\n",
      " - 0s - loss: 2.2873 - acc: 0.4545\n",
      "Epoch 13/200\n",
      " - 0s - loss: 2.2684 - acc: 0.4545\n",
      "Epoch 14/200\n",
      " - 0s - loss: 2.2489 - acc: 0.4545\n",
      "Epoch 15/200\n",
      " - 0s - loss: 2.2289 - acc: 0.4545\n",
      "Epoch 16/200\n",
      " - 0s - loss: 2.2085 - acc: 0.4545\n",
      "Epoch 17/200\n",
      " - 0s - loss: 2.1877 - acc: 0.3636\n",
      "Epoch 18/200\n",
      " - 0s - loss: 2.1667 - acc: 0.3636\n",
      "Epoch 19/200\n",
      " - 0s - loss: 2.1457 - acc: 0.3636\n",
      "Epoch 20/200\n",
      " - 0s - loss: 2.1247 - acc: 0.3636\n",
      "Epoch 21/200\n",
      " - 0s - loss: 2.1041 - acc: 0.3636\n",
      "Epoch 22/200\n",
      " - 0s - loss: 2.0840 - acc: 0.3636\n",
      "Epoch 23/200\n",
      " - 0s - loss: 2.0647 - acc: 0.3636\n",
      "Epoch 24/200\n",
      " - 0s - loss: 2.0461 - acc: 0.3636\n",
      "Epoch 25/200\n",
      " - 0s - loss: 2.0285 - acc: 0.3636\n",
      "Epoch 26/200\n",
      " - 0s - loss: 2.0118 - acc: 0.3636\n",
      "Epoch 27/200\n",
      " - 0s - loss: 1.9958 - acc: 0.3636\n",
      "Epoch 28/200\n",
      " - 0s - loss: 1.9802 - acc: 0.3636\n",
      "Epoch 29/200\n",
      " - 0s - loss: 1.9650 - acc: 0.3636\n",
      "Epoch 30/200\n",
      " - 0s - loss: 1.9497 - acc: 0.3636\n",
      "Epoch 31/200\n",
      " - 0s - loss: 1.9341 - acc: 0.3636\n",
      "Epoch 32/200\n",
      " - 0s - loss: 1.9181 - acc: 0.3636\n",
      "Epoch 33/200\n",
      " - 0s - loss: 1.9016 - acc: 0.3636\n",
      "Epoch 34/200\n",
      " - 0s - loss: 1.8845 - acc: 0.3636\n",
      "Epoch 35/200\n",
      " - 0s - loss: 1.8670 - acc: 0.3636\n",
      "Epoch 36/200\n",
      " - 0s - loss: 1.8491 - acc: 0.3636\n",
      "Epoch 37/200\n",
      " - 0s - loss: 1.8309 - acc: 0.3636\n",
      "Epoch 38/200\n",
      " - 0s - loss: 1.8125 - acc: 0.3636\n",
      "Epoch 39/200\n",
      " - 0s - loss: 1.7940 - acc: 0.3636\n",
      "Epoch 40/200\n",
      " - 0s - loss: 1.7754 - acc: 0.3636\n",
      "Epoch 41/200\n",
      " - 0s - loss: 1.7566 - acc: 0.3636\n",
      "Epoch 42/200\n",
      " - 0s - loss: 1.7378 - acc: 0.3636\n",
      "Epoch 43/200\n",
      " - 0s - loss: 1.7187 - acc: 0.3636\n",
      "Epoch 44/200\n",
      " - 0s - loss: 1.6994 - acc: 0.3636\n",
      "Epoch 45/200\n",
      " - 0s - loss: 1.6796 - acc: 0.4545\n",
      "Epoch 46/200\n",
      " - 0s - loss: 1.6595 - acc: 0.4545\n",
      "Epoch 47/200\n",
      " - 0s - loss: 1.6388 - acc: 0.4545\n",
      "Epoch 48/200\n",
      " - 0s - loss: 1.6176 - acc: 0.5455\n",
      "Epoch 49/200\n",
      " - 0s - loss: 1.5959 - acc: 0.5455\n",
      "Epoch 50/200\n",
      " - 0s - loss: 1.5738 - acc: 0.5455\n",
      "Epoch 51/200\n",
      " - 0s - loss: 1.5513 - acc: 0.5455\n",
      "Epoch 52/200\n",
      " - 0s - loss: 1.5284 - acc: 0.5455\n",
      "Epoch 53/200\n",
      " - 0s - loss: 1.5052 - acc: 0.5455\n",
      "Epoch 54/200\n",
      " - 0s - loss: 1.4819 - acc: 0.5455\n",
      "Epoch 55/200\n",
      " - 0s - loss: 1.4584 - acc: 0.5455\n",
      "Epoch 56/200\n",
      " - 0s - loss: 1.4349 - acc: 0.5455\n",
      "Epoch 57/200\n",
      " - 0s - loss: 1.4114 - acc: 0.6364\n",
      "Epoch 58/200\n",
      " - 0s - loss: 1.3880 - acc: 0.6364\n",
      "Epoch 59/200\n",
      " - 0s - loss: 1.3648 - acc: 0.6364\n",
      "Epoch 60/200\n",
      " - 0s - loss: 1.3418 - acc: 0.6364\n",
      "Epoch 61/200\n",
      " - 0s - loss: 1.3190 - acc: 0.6364\n",
      "Epoch 62/200\n",
      " - 0s - loss: 1.2967 - acc: 0.6364\n",
      "Epoch 63/200\n",
      " - 0s - loss: 1.2747 - acc: 0.6364\n",
      "Epoch 64/200\n",
      " - 0s - loss: 1.2531 - acc: 0.6364\n",
      "Epoch 65/200\n",
      " - 0s - loss: 1.2321 - acc: 0.6364\n",
      "Epoch 66/200\n",
      " - 0s - loss: 1.2116 - acc: 0.6364\n",
      "Epoch 67/200\n",
      " - 0s - loss: 1.1916 - acc: 0.6364\n",
      "Epoch 68/200\n",
      " - 0s - loss: 1.1722 - acc: 0.6364\n",
      "Epoch 69/200\n",
      " - 0s - loss: 1.1533 - acc: 0.6364\n",
      "Epoch 70/200\n",
      " - 0s - loss: 1.1350 - acc: 0.6364\n",
      "Epoch 71/200\n",
      " - 0s - loss: 1.1172 - acc: 0.6364\n",
      "Epoch 72/200\n",
      " - 0s - loss: 1.0998 - acc: 0.6364\n",
      "Epoch 73/200\n",
      " - 0s - loss: 1.0829 - acc: 0.6364\n",
      "Epoch 74/200\n",
      " - 0s - loss: 1.0664 - acc: 0.7273\n",
      "Epoch 75/200\n",
      " - 0s - loss: 1.0502 - acc: 0.7273\n",
      "Epoch 76/200\n",
      " - 0s - loss: 1.0344 - acc: 0.7273\n",
      "Epoch 77/200\n",
      " - 0s - loss: 1.0190 - acc: 0.7273\n",
      "Epoch 78/200\n",
      " - 0s - loss: 1.0038 - acc: 0.7273\n",
      "Epoch 79/200\n",
      " - 0s - loss: 0.9889 - acc: 0.7273\n",
      "Epoch 80/200\n",
      " - 0s - loss: 0.9742 - acc: 0.7273\n",
      "Epoch 81/200\n",
      " - 0s - loss: 0.9598 - acc: 0.7273\n",
      "Epoch 82/200\n",
      " - 0s - loss: 0.9456 - acc: 0.7273\n",
      "Epoch 83/200\n",
      " - 0s - loss: 0.9316 - acc: 0.7273\n",
      "Epoch 84/200\n",
      " - 0s - loss: 0.9178 - acc: 0.7273\n",
      "Epoch 85/200\n",
      " - 0s - loss: 0.9042 - acc: 0.7273\n",
      "Epoch 86/200\n",
      " - 0s - loss: 0.8907 - acc: 0.7273\n",
      "Epoch 87/200\n",
      " - 0s - loss: 0.8775 - acc: 0.7273\n",
      "Epoch 88/200\n",
      " - 0s - loss: 0.8643 - acc: 0.7273\n",
      "Epoch 89/200\n",
      " - 0s - loss: 0.8514 - acc: 0.7273\n",
      "Epoch 90/200\n",
      " - 0s - loss: 0.8386 - acc: 0.7273\n",
      "Epoch 91/200\n",
      " - 0s - loss: 0.8259 - acc: 0.7273\n",
      "Epoch 92/200\n",
      " - 0s - loss: 0.8134 - acc: 0.7273\n",
      "Epoch 93/200\n",
      " - 0s - loss: 0.8011 - acc: 0.7273\n",
      "Epoch 94/200\n",
      " - 0s - loss: 0.7889 - acc: 0.7273\n",
      "Epoch 95/200\n",
      " - 0s - loss: 0.7769 - acc: 0.7273\n",
      "Epoch 96/200\n",
      " - 0s - loss: 0.7651 - acc: 0.7273\n",
      "Epoch 97/200\n",
      " - 0s - loss: 0.7534 - acc: 0.7273\n",
      "Epoch 98/200\n",
      " - 0s - loss: 0.7418 - acc: 0.7273\n",
      "Epoch 99/200\n",
      " - 0s - loss: 0.7304 - acc: 0.7273\n",
      "Epoch 100/200\n",
      " - 0s - loss: 0.7192 - acc: 0.7273\n",
      "Epoch 101/200\n",
      " - 0s - loss: 0.7080 - acc: 0.7273\n",
      "Epoch 102/200\n",
      " - 0s - loss: 0.6971 - acc: 0.7273\n",
      "Epoch 103/200\n",
      " - 0s - loss: 0.6862 - acc: 0.7273\n",
      "Epoch 104/200\n",
      " - 0s - loss: 0.6755 - acc: 0.7273\n",
      "Epoch 105/200\n",
      " - 0s - loss: 0.6650 - acc: 0.7273\n",
      "Epoch 106/200\n",
      " - 0s - loss: 0.6546 - acc: 0.7273\n",
      "Epoch 107/200\n",
      " - 0s - loss: 0.6443 - acc: 0.7273\n",
      "Epoch 108/200\n",
      " - 0s - loss: 0.6341 - acc: 0.7273\n",
      "Epoch 109/200\n",
      " - 0s - loss: 0.6241 - acc: 0.7273\n",
      "Epoch 110/200\n",
      " - 0s - loss: 0.6142 - acc: 0.8182\n",
      "Epoch 111/200\n",
      " - 0s - loss: 0.6045 - acc: 0.8182\n",
      "Epoch 112/200\n",
      " - 0s - loss: 0.5948 - acc: 0.8182\n",
      "Epoch 113/200\n",
      " - 0s - loss: 0.5853 - acc: 0.8182\n",
      "Epoch 114/200\n",
      " - 0s - loss: 0.5759 - acc: 0.8182\n",
      "Epoch 115/200\n",
      " - 0s - loss: 0.5667 - acc: 0.8182\n",
      "Epoch 116/200\n",
      " - 0s - loss: 0.5576 - acc: 0.8182\n",
      "Epoch 117/200\n",
      " - 0s - loss: 0.5486 - acc: 0.8182\n",
      "Epoch 118/200\n",
      " - 0s - loss: 0.5397 - acc: 0.8182\n",
      "Epoch 119/200\n",
      " - 0s - loss: 0.5310 - acc: 0.8182\n",
      "Epoch 120/200\n",
      " - 0s - loss: 0.5224 - acc: 0.9091\n",
      "Epoch 121/200\n",
      " - 0s - loss: 0.5139 - acc: 0.9091\n",
      "Epoch 122/200\n",
      " - 0s - loss: 0.5055 - acc: 0.9091\n",
      "Epoch 123/200\n",
      " - 0s - loss: 0.4973 - acc: 0.9091\n",
      "Epoch 124/200\n",
      " - 0s - loss: 0.4891 - acc: 0.9091\n",
      "Epoch 125/200\n",
      " - 0s - loss: 0.4811 - acc: 0.9091\n",
      "Epoch 126/200\n",
      " - 0s - loss: 0.4732 - acc: 0.9091\n",
      "Epoch 127/200\n",
      " - 0s - loss: 0.4655 - acc: 0.9091\n",
      "Epoch 128/200\n",
      " - 0s - loss: 0.4578 - acc: 0.9091\n",
      "Epoch 129/200\n",
      " - 0s - loss: 0.4503 - acc: 0.9091\n",
      "Epoch 130/200\n",
      " - 0s - loss: 0.4429 - acc: 0.9091\n",
      "Epoch 131/200\n",
      " - 0s - loss: 0.4356 - acc: 0.9091\n",
      "Epoch 132/200\n",
      " - 0s - loss: 0.4284 - acc: 0.9091\n",
      "Epoch 133/200\n",
      " - 0s - loss: 0.4213 - acc: 0.9091\n",
      "Epoch 134/200\n",
      " - 0s - loss: 0.4143 - acc: 0.9091\n",
      "Epoch 135/200\n",
      " - 0s - loss: 0.4074 - acc: 0.9091\n",
      "Epoch 136/200\n",
      " - 0s - loss: 0.4006 - acc: 0.9091\n",
      "Epoch 137/200\n",
      " - 0s - loss: 0.3940 - acc: 0.9091\n",
      "Epoch 138/200\n",
      " - 0s - loss: 0.3874 - acc: 0.9091\n",
      "Epoch 139/200\n",
      " - 0s - loss: 0.3809 - acc: 0.9091\n",
      "Epoch 140/200\n",
      " - 0s - loss: 0.3746 - acc: 0.9091\n",
      "Epoch 141/200\n",
      " - 0s - loss: 0.3683 - acc: 0.9091\n",
      "Epoch 142/200\n",
      " - 0s - loss: 0.3621 - acc: 0.9091\n",
      "Epoch 143/200\n",
      " - 0s - loss: 0.3560 - acc: 0.9091\n",
      "Epoch 144/200\n",
      " - 0s - loss: 0.3500 - acc: 0.9091\n",
      "Epoch 145/200\n",
      " - 0s - loss: 0.3441 - acc: 1.0000\n",
      "Epoch 146/200\n",
      " - 0s - loss: 0.3383 - acc: 1.0000\n",
      "Epoch 147/200\n",
      " - 0s - loss: 0.3326 - acc: 1.0000\n",
      "Epoch 148/200\n",
      " - 0s - loss: 0.3270 - acc: 1.0000\n",
      "Epoch 149/200\n",
      " - 0s - loss: 0.3214 - acc: 1.0000\n",
      "Epoch 150/200\n",
      " - 0s - loss: 0.3159 - acc: 1.0000\n",
      "Epoch 151/200\n",
      " - 0s - loss: 0.3105 - acc: 1.0000\n",
      "Epoch 152/200\n",
      " - 0s - loss: 0.3052 - acc: 1.0000\n",
      "Epoch 153/200\n",
      " - 0s - loss: 0.3000 - acc: 1.0000\n",
      "Epoch 154/200\n",
      " - 0s - loss: 0.2948 - acc: 1.0000\n",
      "Epoch 155/200\n",
      " - 0s - loss: 0.2897 - acc: 1.0000\n",
      "Epoch 156/200\n",
      " - 0s - loss: 0.2847 - acc: 1.0000\n",
      "Epoch 157/200\n",
      " - 0s - loss: 0.2798 - acc: 1.0000\n",
      "Epoch 158/200\n",
      " - 0s - loss: 0.2749 - acc: 1.0000\n",
      "Epoch 159/200\n",
      " - 0s - loss: 0.2701 - acc: 1.0000\n"
     ]
    },
    {
     "name": "stdout",
     "output_type": "stream",
     "text": [
      "Epoch 160/200\n",
      " - 0s - loss: 0.2653 - acc: 1.0000\n",
      "Epoch 161/200\n",
      " - 0s - loss: 0.2607 - acc: 1.0000\n",
      "Epoch 162/200\n",
      " - 0s - loss: 0.2561 - acc: 1.0000\n",
      "Epoch 163/200\n",
      " - 0s - loss: 0.2515 - acc: 1.0000\n",
      "Epoch 164/200\n",
      " - 0s - loss: 0.2471 - acc: 1.0000\n",
      "Epoch 165/200\n",
      " - 0s - loss: 0.2427 - acc: 1.0000\n",
      "Epoch 166/200\n",
      " - 0s - loss: 0.2383 - acc: 1.0000\n",
      "Epoch 167/200\n",
      " - 0s - loss: 0.2341 - acc: 1.0000\n",
      "Epoch 168/200\n",
      " - 0s - loss: 0.2299 - acc: 1.0000\n",
      "Epoch 169/200\n",
      " - 0s - loss: 0.2257 - acc: 1.0000\n",
      "Epoch 170/200\n",
      " - 0s - loss: 0.2216 - acc: 1.0000\n",
      "Epoch 171/200\n",
      " - 0s - loss: 0.2176 - acc: 1.0000\n",
      "Epoch 172/200\n",
      " - 0s - loss: 0.2136 - acc: 1.0000\n",
      "Epoch 173/200\n",
      " - 0s - loss: 0.2098 - acc: 1.0000\n",
      "Epoch 174/200\n",
      " - 0s - loss: 0.2059 - acc: 1.0000\n",
      "Epoch 175/200\n",
      " - 0s - loss: 0.2022 - acc: 1.0000\n",
      "Epoch 176/200\n",
      " - 0s - loss: 0.1984 - acc: 1.0000\n",
      "Epoch 177/200\n",
      " - 0s - loss: 0.1948 - acc: 1.0000\n",
      "Epoch 178/200\n",
      " - 0s - loss: 0.1912 - acc: 1.0000\n",
      "Epoch 179/200\n",
      " - 0s - loss: 0.1877 - acc: 1.0000\n",
      "Epoch 180/200\n",
      " - 0s - loss: 0.1842 - acc: 1.0000\n",
      "Epoch 181/200\n",
      " - 0s - loss: 0.1808 - acc: 1.0000\n",
      "Epoch 182/200\n",
      " - 0s - loss: 0.1775 - acc: 1.0000\n",
      "Epoch 183/200\n",
      " - 0s - loss: 0.1742 - acc: 1.0000\n",
      "Epoch 184/200\n",
      " - 0s - loss: 0.1710 - acc: 1.0000\n",
      "Epoch 185/200\n",
      " - 0s - loss: 0.1678 - acc: 1.0000\n",
      "Epoch 186/200\n",
      " - 0s - loss: 0.1647 - acc: 1.0000\n",
      "Epoch 187/200\n",
      " - 0s - loss: 0.1617 - acc: 1.0000\n",
      "Epoch 188/200\n",
      " - 0s - loss: 0.1587 - acc: 1.0000\n",
      "Epoch 189/200\n",
      " - 0s - loss: 0.1558 - acc: 1.0000\n",
      "Epoch 190/200\n",
      " - 0s - loss: 0.1529 - acc: 1.0000\n",
      "Epoch 191/200\n",
      " - 0s - loss: 0.1501 - acc: 1.0000\n",
      "Epoch 192/200\n",
      " - 0s - loss: 0.1473 - acc: 1.0000\n",
      "Epoch 193/200\n",
      " - 0s - loss: 0.1446 - acc: 1.0000\n",
      "Epoch 194/200\n",
      " - 0s - loss: 0.1420 - acc: 1.0000\n",
      "Epoch 195/200\n",
      " - 0s - loss: 0.1394 - acc: 1.0000\n",
      "Epoch 196/200\n",
      " - 0s - loss: 0.1369 - acc: 1.0000\n",
      "Epoch 197/200\n",
      " - 0s - loss: 0.1344 - acc: 1.0000\n",
      "Epoch 198/200\n",
      " - 0s - loss: 0.1320 - acc: 1.0000\n",
      "Epoch 199/200\n",
      " - 0s - loss: 0.1296 - acc: 1.0000\n",
      "Epoch 200/200\n",
      " - 0s - loss: 0.1272 - acc: 1.0000\n"
     ]
    },
    {
     "data": {
      "text/plain": [
       "<tensorflow.python.keras.callbacks.History at 0x1ec5dd99f60>"
      ]
     },
     "execution_count": 15,
     "metadata": {},
     "output_type": "execute_result"
    }
   ],
   "source": [
    "model = Sequential()\n",
    "model.add(Embedding(vocab_size, 10, input_length=max_len-1))  \n",
    "# vocab_size : 토큰화된 단어들의 개수\n",
    "# 10 : 원핫벡터 임베딩 차원\n",
    "# input_length : 인풋의 길이\n",
    "model.add(SimpleRNN(32))\n",
    "model.add(Dense(vocab_size, activation='softmax'))\n",
    "model.compile(loss='categorical_crossentropy', optimizer='adam', metrics=['accuracy'])\n",
    "model.fit(X, y, epochs=200, verbose=2)"
   ]
  },
  {
   "cell_type": "markdown",
   "metadata": {},
   "source": [
    "## 예측 (문장을 생성하여 출력)"
   ]
  },
  {
   "cell_type": "code",
   "execution_count": 16,
   "metadata": {},
   "outputs": [],
   "source": [
    "def sentence_generation(model, t, current_word, n):  # 모델, 토크나이저, 현재 단어, 반복횟수\n",
    "    init_word = current_word  # 처음 들어온 단어도 마지막에 같이 출력하기 위해 저장\n",
    "    sentence = ''\n",
    "    for _ in range(n):   # n번 반복\n",
    "        encoded = t.texts_to_sequences([current_word])[0]   # 현재 단어에 대한 정수 인코딩\n",
    "        encoded = pad_sequences([encoded], maxlen=5, padding='pre')\n",
    "        result = model.predict_classes(encoded, verbose=0)\n",
    "        \n",
    "    #입력한 X(현재 단어)에 대해서 y를 예측하고 y(예측한 단어)를 result에 저장\n",
    "        for word, index in t.word_index.items():\n",
    "            if index == result:   # 예측한 단어와 인덱스와 동일한 단어가 있다면\n",
    "                break   # 해당 단어가 예측 단어이므로 break\n",
    "        current_word = current_word + ' ' + word  # 현재 단어 + ' ' + 예측 단어를 현재 단어로 변경\n",
    "        sentence = sentence + ' ' + word    # 예측 단어를 문장에 저장\n",
    "    # for문이므로 이 행동을 다시 반복\n",
    "    sentence = init_word + sentence\n",
    "    return sentence"
   ]
  },
  {
   "cell_type": "code",
   "execution_count": 18,
   "metadata": {},
   "outputs": [
    {
     "name": "stdout",
     "output_type": "stream",
     "text": [
      "경마장에 있는 말이 뛰고 있다\n"
     ]
    }
   ],
   "source": [
    "print(sentence_generation(model, t, '경마장에', 4))   # '경마장에'라는 단어 뒤에는 총 4개의 단어가 있으므로 4번 예측"
   ]
  },
  {
   "cell_type": "code",
   "execution_count": 19,
   "metadata": {},
   "outputs": [
    {
     "name": "stdout",
     "output_type": "stream",
     "text": [
      "그의 말이 법이다\n"
     ]
    }
   ],
   "source": [
    "print(sentence_generation(model, t, '그의', 2))     # 2번 예측"
   ]
  },
  {
   "cell_type": "code",
   "execution_count": 21,
   "metadata": {},
   "outputs": [
    {
     "name": "stdout",
     "output_type": "stream",
     "text": [
      "가는 말이 고와야 오는 말이 곱다\n"
     ]
    }
   ],
   "source": [
    "print(sentence_generation(model, t, '가는', 5))      # 5번 예측"
   ]
  },
  {
   "cell_type": "code",
   "execution_count": null,
   "metadata": {},
   "outputs": [],
   "source": []
  }
 ],
 "metadata": {
  "kernelspec": {
   "display_name": "Python 3",
   "language": "python",
   "name": "python3"
  },
  "language_info": {
   "codemirror_mode": {
    "name": "ipython",
    "version": 3
   },
   "file_extension": ".py",
   "mimetype": "text/x-python",
   "name": "python",
   "nbconvert_exporter": "python",
   "pygments_lexer": "ipython3",
   "version": "3.6.10"
  }
 },
 "nbformat": 4,
 "nbformat_minor": 2
}

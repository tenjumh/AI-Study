{
 "cells": [
  {
   "cell_type": "markdown",
   "metadata": {},
   "source": [
    "# 단어 분리(Subword Segmentation)\n",
    "- 내부 단어 분리(Subword Segmentation)는 기계가 아직 배운 적이 없는 단어더라도 대처할 수 있도록 도와주는 기법\n",
    "- 단어 분리를 통해 OOV 문제를 해결하는 방법<br>\n",
    "(1) BPE(Byte Pair Encoding)<br>\n",
    "(2) WPM(Word Piece Model)"
   ]
  },
  {
   "cell_type": "markdown",
   "metadata": {},
   "source": [
    "<b>1. BPE(Byte Pair Encoding) Algorithm</b>\n",
    "- 1994년에 제안된 데이터 압축 알고리즘\n",
    "- 후에 자연어 처리의 단어 분리 알고리즘으로 응용"
   ]
  },
  {
   "cell_type": "markdown",
   "metadata": {},
   "source": [
    "<b>aaabdaaabac</b><br>\n",
    "Z=aa (치환)<br>\n",
    "<b>ZabdZabac</b><br>\n",
    "Y=ab (치환)<br>\n",
    "<b>ZYdZYac</b><br>\n",
    "X=ZY (치환)<br>\n",
    "<b>XdXac (종료)</b>"
   ]
  },
  {
   "cell_type": "code",
   "execution_count": null,
   "metadata": {},
   "outputs": [],
   "source": []
  }
 ],
 "metadata": {
  "kernelspec": {
   "display_name": "Python 3",
   "language": "python",
   "name": "python3"
  },
  "language_info": {
   "codemirror_mode": {
    "name": "ipython",
    "version": 3
   },
   "file_extension": ".py",
   "mimetype": "text/x-python",
   "name": "python",
   "nbconvert_exporter": "python",
   "pygments_lexer": "ipython3",
   "version": "3.6.9"
  }
 },
 "nbformat": 4,
 "nbformat_minor": 2
}

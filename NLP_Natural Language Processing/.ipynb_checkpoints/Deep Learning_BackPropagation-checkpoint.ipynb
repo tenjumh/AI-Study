{
 "cells": [
  {
   "cell_type": "markdown",
   "metadata": {},
   "source": [
    "# 순전파\n",
    "![순전파그림](https://github.com/tenjumh/GraduateSchool/blob/master/Study/NLP_Natural%20Language%20Processing/image/ML/%EC%88%9C%EC%A0%84%ED%8C%8C%EA%B7%B8%EB%A6%BC.PNG?raw=True)\n",
    "\n",
    "z1=W1x1+W2x2=0.3×0.1+0.25×0.2=0.08<br>\n",
    "z2=W3x1+W4x2=0.4×0.1+0.35×0.2=0.11\n",
    "\n",
    "h1=sigmoid(z1)=0.51998934<br>\n",
    "h2=sigmoid(z2)=0.52747230\n",
    "\n",
    "z3=W5h1+W6h2=0.45×h1+0.4×h2=0.44498412<br>\n",
    "z4=W7h1+W8h2=0.7×h1+0.6×h2=0.68047592\n",
    "\n",
    "o1=sigmoid(z3)=0.60944600<br>\n",
    "o2=sigmoid(z4)=0.66384491\n",
    "\n",
    "E(o1)=1/2(target(o1)−output(o1))^2=0.02193381<br>\n",
    "E(o2)=1/2(target(o2)−output(o2))^2=0.00203809<br>\n",
    "E(total)=E(o1)+E(o2)=0.02397190"
   ]
  },
  {
   "attachments": {},
   "cell_type": "markdown",
   "metadata": {},
   "source": [
    "# 역전파1step\n",
    "![역전파그림](https://github.com/tenjumh/GraduateSchool/blob/master/Study/NLP_Natural%20Language%20Processing/image/ML/%EC%97%AD%EC%A0%84%ED%8C%8C%EA%B7%B8%EB%A6%BC.PNG?raw=True)\n",
    "\n",
    "![역전파식](https://github.com/tenjumh/GraduateSchool/blob/master/Study/NLP_Natural%20Language%20Processing/image/ML/%EC%97%AD%EC%A0%84%ED%8C%8C%EC%8B%9D1.PNG?raw=True)<br>\n",
    "![역전파식](https://github.com/tenjumh/GraduateSchool/blob/master/Study/NLP_Natural%20Language%20Processing/image/ML/%EC%97%AD%EC%A0%84%ED%8C%8C%EC%8B%9D2.PNG?raw=True)<br>\n",
    "![역전파식](https://github.com/tenjumh/GraduateSchool/blob/master/Study/NLP_Natural%20Language%20Processing/image/ML/%EC%97%AD%EC%A0%84%ED%8C%8C%EC%8B%9D3.PNG?raw=True)<br>\n",
    "![역전파식](https://github.com/tenjumh/GraduateSchool/blob/master/Study/NLP_Natural%20Language%20Processing/image/ML/%EC%97%AD%EC%A0%84%ED%8C%8C%EC%8B%9D4.PNG?raw=True)<br>"
   ]
  },
  {
   "cell_type": "markdown",
   "metadata": {},
   "source": [
    "# 역전파2step\n",
    "![역전파2그림](https://github.com/tenjumh/GraduateSchool/blob/master/Study/NLP_Natural%20Language%20Processing/image/ML/%EC%97%AD%EC%A0%84%ED%8C%8C%EA%B7%B8%EB%A6%BC2.PNG?raw=True)\n",
    "\n",
    "![역전파식](https://github.com/tenjumh/GraduateSchool/blob/master/Study/NLP_Natural%20Language%20Processing/image/ML/%EC%97%AD%EC%A0%84%ED%8C%8C%EC%8B%9D5.PNG?raw=True)<br>\n",
    "![역전파식](https://github.com/tenjumh/GraduateSchool/blob/master/Study/NLP_Natural%20Language%20Processing/image/ML/%EC%97%AD%EC%A0%84%ED%8C%8C%EC%8B%9D6.PNG?raw=True)<br>\n",
    "![역전파식](https://github.com/tenjumh/GraduateSchool/blob/master/Study/NLP_Natural%20Language%20Processing/image/ML/%EC%97%AD%EC%A0%84%ED%8C%8C%EC%8B%9D7.PNG?raw=True)<br>\n",
    "![역전파식](https://github.com/tenjumh/GraduateSchool/blob/master/Study/NLP_Natural%20Language%20Processing/image/ML/%EC%97%AD%EC%A0%84%ED%8C%8C%EC%8B%9D8.PNG?raw=True)<br>"
   ]
  },
  {
   "cell_type": "markdown",
   "metadata": {},
   "source": [
    "# 결과\n",
    "![순역전파그림](https://github.com/tenjumh/GraduateSchool/blob/master/Study/NLP_Natural%20Language%20Processing/image/ML/%EC%88%9C%EC%A0%84%ED%8C%8C%EC%97%AD%EC%A0%84%ED%8C%8C%EA%B2%B0%EA%B3%BC%EA%B7%B8%EB%A6%BC.PNG?raw=True)\n",
    "\n",
    "![순역전파식](https://github.com/tenjumh/GraduateSchool/blob/master/Study/NLP_Natural%20Language%20Processing/image/ML/%EA%B2%B0%EA%B3%BC%EC%8B%9D.PNG?raw=True)"
   ]
  },
  {
   "cell_type": "code",
   "execution_count": null,
   "metadata": {},
   "outputs": [],
   "source": []
  }
 ],
 "metadata": {
  "kernelspec": {
   "display_name": "Python 3",
   "language": "python",
   "name": "python3"
  },
  "language_info": {
   "codemirror_mode": {
    "name": "ipython",
    "version": 3
   },
   "file_extension": ".py",
   "mimetype": "text/x-python",
   "name": "python",
   "nbconvert_exporter": "python",
   "pygments_lexer": "ipython3",
   "version": "3.6.9"
  }
 },
 "nbformat": 4,
 "nbformat_minor": 2
}

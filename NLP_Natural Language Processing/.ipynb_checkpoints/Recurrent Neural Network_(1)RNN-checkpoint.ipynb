{
 "cells": [
  {
   "cell_type": "markdown",
   "metadata": {},
   "source": [
    "# RNN\n",
    "\n",
    "- RNN을 뉴런 단위로 시각화\n",
    "![doc1](https://github.com/tenjumh/GraduateSchool/blob/master/Study/NLP_Natural%20Language%20Processing/image/RNN/rnn1.PNG?raw=True)\n",
    "- 다양한 RNN 쓰임\n",
    "    1. 스팸 메일 분류\n",
    "    \n",
    "![doc1](https://github.com/tenjumh/GraduateSchool/blob/master/Study/NLP_Natural%20Language%20Processing/image/RNN/rnn3.PNG?raw=True)\n",
    "\n",
    "    2. 개체명 인식\n",
    "    \n",
    "![doc1](https://github.com/tenjumh/GraduateSchool/blob/master/Study/NLP_Natural%20Language%20Processing/image/RNN/rnn4.PNG?raw=True)"
   ]
  },
  {
   "cell_type": "markdown",
   "metadata": {},
   "source": [
    "- RNN 수식 정의\n",
    "![doc1](https://github.com/tenjumh/GraduateSchool/blob/master/Study/NLP_Natural%20Language%20Processing/image/RNN/rnn5.PNG?raw=True)\n",
    "    1. 현 시점 t에서의 은닉 상태값을 h(t)라고 정의\n",
    "    2. h(t)를 계산하기 위해서는 두 개의 가중치가 필요\n",
    "    3. w(x)와 t-1시점의 은닉 상태값인 w(h)\n",
    "    4. 식으로 표현하면\n",
    "![doc1](https://github.com/tenjumh/GraduateSchool/blob/master/Study/NLP_Natural%20Language%20Processing/image/RNN/rnn6.PNG?raw=True)\n",
    "    5. 자연어 처리에서 RNN의 입력 x(t)는 대부분 단어 벡터로 간주, 단어벡터의 차원을 d라고 하고, 은닉 상태의 크기를 D(h)라고 할 때,\n",
    "![doc1](https://github.com/tenjumh/GraduateSchool/blob/master/Study/NLP_Natural%20Language%20Processing/image/RNN/rnn7.PNG?raw=True)\n",
    "    6. 배치 크기가 1이고 d와 D(h) 두 값을 모두 4로 가정하면 그림은,\n",
    "![doc1](https://github.com/tenjumh/GraduateSchool/blob/master/Study/NLP_Natural%20Language%20Processing/image/RNN/rnn8.PNG?raw=True)"
   ]
  },
  {
   "cell_type": "markdown",
   "metadata": {},
   "source": [
    "# 케라스로 RNN 구현하기\n",
    "- RNN층을 추가하는 코드\n",
    "```\n",
    "model.add(SimpleRNN(hidden_size)\n",
    "```\n",
    "- 추가 인자를 사용할 때\n",
    "```\n",
    "model.add(SimpleRNN(hidden_size, input_shape=(timesteps, input_dim)))\n",
    "```\n",
    "- 다른 표기\n",
    "```\n",
    "model.add(SimpleRNN(hidden_size, input_length=M, input_dim=N))  # M과 N은 정수\n",
    "```"
   ]
  },
  {
   "cell_type": "code",
   "execution_count": null,
   "metadata": {},
   "outputs": [],
   "source": []
  }
 ],
 "metadata": {
  "kernelspec": {
   "display_name": "Python 3",
   "language": "python",
   "name": "python3"
  },
  "language_info": {
   "codemirror_mode": {
    "name": "ipython",
    "version": 3
   },
   "file_extension": ".py",
   "mimetype": "text/x-python",
   "name": "python",
   "nbconvert_exporter": "python",
   "pygments_lexer": "ipython3",
   "version": "3.6.9"
  }
 },
 "nbformat": 4,
 "nbformat_minor": 2
}

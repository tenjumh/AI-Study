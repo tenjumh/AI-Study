{
 "cells": [
  {
   "cell_type": "markdown",
   "metadata": {},
   "source": [
    "# 벡터와 행렬 연산\n",
    "<b><h2> 1. 벡터와 행렬과 텐서</h2></b>\n",
    "- 벡터는 크기와 방향을 가진 양, 숫자가 나열된 형상\n",
    "- 파이썬에서는 1차원 배열 또는 리스트로 표현\n",
    "- 행렬은 행과 열을 가진 2차원 형상이며 파이썬에서는 2차원 배열로 표현\n",
    "- 3차원부터는 텐서라고 부름\n",
    "\n",
    "<b><h2> 2. 텐서</h2></b>"
   ]
  },
  {
   "cell_type": "code",
   "execution_count": 1,
   "metadata": {},
   "outputs": [],
   "source": [
    "import numpy as np"
   ]
  },
  {
   "cell_type": "code",
   "execution_count": 2,
   "metadata": {},
   "outputs": [
    {
     "name": "stdout",
     "output_type": "stream",
     "text": [
      "0\n",
      "()\n"
     ]
    }
   ],
   "source": [
    "# 1) 0차원 텐서 : 스칼라\n",
    "d = np.array(5)\n",
    "print(d.ndim)\n",
    "print(d.shape)"
   ]
  },
  {
   "cell_type": "code",
   "execution_count": 3,
   "metadata": {},
   "outputs": [
    {
     "name": "stdout",
     "output_type": "stream",
     "text": [
      "1\n",
      "(4,)\n"
     ]
    }
   ],
   "source": [
    "# 2) 1차원 텐서 : 벡터\n",
    "d = np.array([1,2,3,4])\n",
    "print(d.ndim)\n",
    "print(d.shape)"
   ]
  },
  {
   "cell_type": "code",
   "execution_count": 4,
   "metadata": {},
   "outputs": [
    {
     "name": "stdout",
     "output_type": "stream",
     "text": [
      "2\n",
      "(3, 4)\n"
     ]
    }
   ],
   "source": [
    "# 3) 2차원 텐서 : 행렬\n",
    "d = np.array([[1, 2, 3, 4], [5, 6, 7, 8], [9, 10, 11, 12]])\n",
    "print(d.ndim)\n",
    "print(d.shape)"
   ]
  },
  {
   "cell_type": "code",
   "execution_count": 5,
   "metadata": {},
   "outputs": [
    {
     "name": "stdout",
     "output_type": "stream",
     "text": [
      "3\n",
      "(2, 3, 5)\n"
     ]
    }
   ],
   "source": [
    "# 4) 3차원 텐서\n",
    "d=np.array([\n",
    "            [[1, 2, 3, 4, 5], [6, 7, 8, 9, 10], [10, 11, 12, 13, 14]],\n",
    "            [[15, 16, 17, 18, 19], [19, 20, 21, 22, 23], [23, 24, 25, 26, 27]]\n",
    "            ])\n",
    "print(d.ndim)\n",
    "print(d.shape)"
   ]
  },
  {
   "cell_type": "markdown",
   "metadata": {},
   "source": [
    "- 3D 텐서는 시퀀스 데이터를 표현할 때 사용\n",
    "- 시퀀스 데이터는 주로 단어의 시퀀스를 의미, 시퀀스는 문장, 문서, 뉴스 기사의 텍스트\n",
    "- 3D 텐서 (samples, timesteps, word_dim) 또는 데이터를 묶는 단위인 (batch_size, timesteps, word_dim)   \n",
    "* samples/batch_size : 데이터의 개수<br>\n",
    "* timesteps : 시퀀스의 길이<br>\n",
    "* word_dim : 단어를 표현하는 벡터의 차원<br>\n",
    "\n",
    "- 예<br>\n",
    "    - 문서1 : I like NLP<br>\n",
    "    - 문서2 : I like DL<br>\n",
    "    - 문서3 : DL is AI<br>\n",
    "- 입력을 위해 단어를 벡터화해아함. 단어 벡터화 : 원-핫 인코딩, 워드 임베딩 방법<br>\n",
    "- 여기서는 원-핫 인코딩으로 단어 벡터화<br>\n",
    "I - [1 0 0 0 0 0]<br>\n",
    "like - [0 1 0 0 0 0]<br>\n",
    "NLP - [0 0 1 0 0 0]<br>\n",
    "DL - [0 0 0 1 0 0]<br>\n",
    "is - [0 0 0 0 1 0]<br>\n",
    "AI - [0 0 0 0 0 1]<br>\n",
    "<br>\n",
    "- 예제를 입력데이터로 바꾸면, (3,3,6) 크기를 가지는 3D 텐서가 된다.<br>\n",
    "[[[1, 0, 0, 0, 0, 0], [0, 1, 0, 0, 0, 0], [0, 0, 1, 0, 0, 0]],<br>\n",
    "[[1, 0, 0, 0, 0, 0], [0, 1, 0, 0, 0, 0], [0, 0, 0, 1, 0, 0]],<br>\n",
    "[[0, 0, 0, 1, 0, 0], [0, 0, 0, 0, 1, 0], [0, 0, 0, 0, 0, 1]]]<br>\n",
    "<br>\n",
    "- <b> 그 이상의 텐서</b>\n",
    "\n",
    "![행렬](https://github.com/tenjumh/GraduateSchool/blob/master/Study/NLP_Natural%20Language%20Processing/image/%EB%8B%A4%EC%96%91%ED%95%9C%ED%85%90%EC%84%9C%EA%B7%B8%EB%A6%BC.PNG?raw=True)"
   ]
  },
  {
   "cell_type": "markdown",
   "metadata": {},
   "source": [
    "<b><h2> 3. 벡터와 행렬의 연산</h2></b>"
   ]
  },
  {
   "cell_type": "code",
   "execution_count": 6,
   "metadata": {},
   "outputs": [],
   "source": [
    "import numpy as np"
   ]
  },
  {
   "cell_type": "markdown",
   "metadata": {},
   "source": [
    "<b>1) 벡터와 행렬의 덧셈과 뺄셈</b>\n",
    "\n",
    "![행렬](https://github.com/tenjumh/GraduateSchool/blob/master/Study/NLP_Natural%20Language%20Processing/image/%EB%AC%B8%EC%84%9C%20%EB%8B%A8%EC%96%B4%20%ED%96%89%EB%A0%AC_%EC%BD%94%EC%82%AC%EC%9D%B8%EC%9C%A0%EC%82%AC%EB%8F%84.png?raw=True)\n",
    "\n",
    "![행렬](https://github.com/tenjumh/GraduateSchool/blob/master/Study/NLP_Natural%20Language%20Processing/image/%EB%AC%B8%EC%84%9C%20%EB%8B%A8%EC%96%B4%20%ED%96%89%EB%A0%AC_%EC%BD%94%EC%82%AC%EC%9D%B8%EC%9C%A0%EC%82%AC%EB%8F%84.png?raw=True)\n",
    "\n",
    "![행렬](https://github.com/tenjumh/GraduateSchool/blob/master/Study/NLP_Natural%20Language%20Processing/image/%EB%AC%B8%EC%84%9C%20%EB%8B%A8%EC%96%B4%20%ED%96%89%EB%A0%AC_%EC%BD%94%EC%82%AC%EC%9D%B8%EC%9C%A0%EC%82%AC%EB%8F%84.png?raw=True)\n",
    "\n",
    "![행렬](https://github.com/tenjumh/GraduateSchool/blob/master/Study/NLP_Natural%20Language%20Processing/image/%EB%AC%B8%EC%84%9C%20%EB%8B%A8%EC%96%B4%20%ED%96%89%EB%A0%AC_%EC%BD%94%EC%82%AC%EC%9D%B8%EC%9C%A0%EC%82%AC%EB%8F%84.png?raw=True)"
   ]
  },
  {
   "cell_type": "markdown",
   "metadata": {},
   "source": [
    "![행렬](https://github.com/tenjumh/GraduateSchool/blob/master/Study/NLP_Natural%20Language%20Processing/image/%EB%AC%B8%EC%84%9C%20%EB%8B%A8%EC%96%B4%20%ED%96%89%EB%A0%AC_%EC%BD%94%EC%82%AC%EC%9D%B8%EC%9C%A0%EC%82%AC%EB%8F%84.png?raw=True)"
   ]
  }
 ],
 "metadata": {
  "kernelspec": {
   "display_name": "Python 3",
   "language": "python",
   "name": "python3"
  },
  "language_info": {
   "codemirror_mode": {
    "name": "ipython",
    "version": 3
   },
   "file_extension": ".py",
   "mimetype": "text/x-python",
   "name": "python",
   "nbconvert_exporter": "python",
   "pygments_lexer": "ipython3",
   "version": "3.6.9"
  }
 },
 "nbformat": 4,
 "nbformat_minor": 2
}

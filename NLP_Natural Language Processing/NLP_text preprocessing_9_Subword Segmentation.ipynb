{
 "cells": [
  {
   "cell_type": "markdown",
   "metadata": {},
   "source": [
    "# 단어 분리(Subword Segmentation)\n",
    "- 내부 단어 분리(Subword Segmentation)는 기계가 아직 배운 적이 없는 단어더라도 대처할 수 있도록 도와주는 기법\n",
    "- 단어 분리를 통해 OOV 문제를 해결하는 방법<br>\n",
    "(1) BPE(Byte Pair Encoding)<br>\n",
    "(2) WPM(Word Piece Model)"
   ]
  },
  {
   "cell_type": "markdown",
   "metadata": {},
   "source": [
    "<b>1. BPE(Byte Pair Encoding) Algorithm</b>\n",
    "- 1994년에 제안된 데이터 압축 알고리즘\n",
    "- 후에 자연어 처리의 단어 분리 알고리즘으로 응용\n",
    "\n",
    "<b>aaabdaaabac</b><br>\n",
    "Z=aa (치환)<br>\n",
    "<b>ZabdZabac</b><br>\n",
    "Y=ab (치환)<br>\n",
    "<b>ZYdZYac</b><br>\n",
    "X=ZY (치환)<br>\n",
    "<b>XdXac (종료)</b>"
   ]
  },
  {
   "cell_type": "markdown",
   "metadata": {},
   "source": [
    "<b>2. BPE(Byte Pair Encoding) Algorithm 적용</b>"
   ]
  },
  {
   "cell_type": "markdown",
   "metadata": {},
   "source": [
    "<b>1.다음과 같은 딕셔너리가 있다.<br></b>\n",
    "#dictionary<br>\n",
    "l o w : 5,  l o w e r : 2,  n e w e s t : 6,  w i d e s t : 3<br>\n",
    "\n",
    "<b>2.딕셔너리를 참고로 한 초기 단어 집합(vocabulary)<br></b>\n",
    "#vocabulary : 초기 구성은 글자 단위로 분리된 상태<br>\n",
    "l, o, w, e, r, n, w, s, t, i, d<br>\n",
    "\n",
    "<b>3.1회 - 딕셔너리를 참고로 하였을 때 빈도수가 9로 가장 높은 (e, s)의 쌍을 es로 통합<br></b>\n",
    "#dictionary update!<br>\n",
    "l o w : 5,<br>\n",
    "l o w e r : 2,<br>\n",
    "n e w es t : 6,<br>\n",
    "w i d es t : 3<br>\n",
    "\n",
    "#vocabulary update!<br>\n",
    "l, o, w, e, r, n, w, s, t, i, d, es<br>\n",
    "-> es가 vocabulary 마지막에 추가<br>\n",
    "\n",
    "<b>4.2회 - 빈도수가 9로 가장 높은 (es, t)의 쌍을 est로 통합<br></b>\n",
    "#dictionary update!<br>\n",
    "l o w : 5,<br>\n",
    "l o w e r : 2,<br>\n",
    "n e w est : 6,<br>\n",
    "w i d est : 3<br>\n",
    "\n",
    "#vocabulary update!<br>\n",
    "l, o, w, e, r, n, w, s, t, i, d, es, est<br>\n",
    "\n",
    "<b>5.3회 - 빈도수가 7로 가장 높은 (l, o)의 쌍을 lo로 통합</b>\n",
    "#dictionary update!<br>\n",
    "lo w : 5,<br>\n",
    "lo w e r : 2,<br>\n",
    "n e w est : 6,<br>\n",
    "w i d est : 3<br>\n",
    "\n",
    "#vocabulary update!<br>\n",
    "l, o, w, e, r, n, w, s, t, i, d, es, est, lo<br>\n",
    "\n",
    "<b>6.여러번 반복하였을 때 얻은 딕셔너리와 단어 집합</b><br>\n",
    "#dictionary update!<br>\n",
    "low : 5,<br>\n",
    "low e r : 2,<br>\n",
    "newest : 6,<br>\n",
    "widest : 3<br>\n",
    "\n",
    "#vocabulary update!<br>\n",
    "l, o, w, e, r, n, w, s, t, i, d, es, est, lo, low, ne, new, newest, wi, wid, widest<br>\n",
    "\n",
    "<b>우선 'lowest'를 전부 글자 단위로 분할합니다.<br>\n",
    "    즉, 'l, o, w, e, s, t'가 됩니다. <br>\n",
    "    그리고 기계는 위의 단어 집합을 참고로 하여 'low'와 'est'를 찾아냅니다. <br>\n",
    "    즉, 'lowest'를 기계는 'low'와 'est' 두 단어로 인코딩</b>"
   ]
  },
  {
   "cell_type": "code",
   "execution_count": 4,
   "metadata": {},
   "outputs": [
    {
     "name": "stdout",
     "output_type": "stream",
     "text": [
      "('e', 's')\n",
      "('e', 's')\n",
      "('e', 's')\n",
      "('e', 's')\n",
      "('e', 's')\n",
      "('e', 's')\n",
      "('e', 's')\n",
      "('e', 's')\n",
      "('e', 's')\n",
      "('e', 's')\n"
     ]
    }
   ],
   "source": [
    "import re, collections\n",
    "\n",
    "def get_stats(vocab):\n",
    "    pairs = collections.defaultdict(int)\n",
    "    for word, freq in vocab.items():\n",
    "        symbols = word.split()\n",
    "        for i in range(len(symbols) - 1):\n",
    "            pairs[symbols[i], symbols[i+1]] += freq\n",
    "    return pairs\n",
    "\n",
    "def merge_vocab(pair, v_in):\n",
    "    v_out = {}\n",
    "    bigram = re.escape(' '.join(pair))\n",
    "    p = re.compile(r'(?<!\\s)' + bigram + r'(?!\\S)')\n",
    "    for word in v_in:\n",
    "        w_out = p.sub(''.join(pair), word)\n",
    "        v_out[w_out] = v_in[word]\n",
    "    return v_out\n",
    "\n",
    "vocab = {'l o w </w>' : 5,\n",
    "        'l o w e r </w>' : 2,\n",
    "        'n e w e s t </w>' : 6,\n",
    "        'w i d e s t </w>' : 3\n",
    "        }\n",
    "\n",
    "num_merges = 10\n",
    "\n",
    "for i in range(num_merges):\n",
    "    pairs = get_stats(vocab)\n",
    "    best = max(pairs, key = pairs.get)\n",
    "    vocab = merge_vocab(best, vocab)\n",
    "    print(best)"
   ]
  },
  {
   "cell_type": "markdown",
   "metadata": {},
   "source": [
    "<b>2. WPM(Word Piece Model Algorithm</b>\n",
    "- 1994년에 제안된 데이터 압축 알고리즘\n",
    "- 후에 자연어 처리의 단어 분리 알고리즘으로 응용"
   ]
  }
 ],
 "metadata": {
  "kernelspec": {
   "display_name": "Python 3",
   "language": "python",
   "name": "python3"
  },
  "language_info": {
   "codemirror_mode": {
    "name": "ipython",
    "version": 3
   },
   "file_extension": ".py",
   "mimetype": "text/x-python",
   "name": "python",
   "nbconvert_exporter": "python",
   "pygments_lexer": "ipython3",
   "version": "3.6.9"
  }
 },
 "nbformat": 4,
 "nbformat_minor": 2
}

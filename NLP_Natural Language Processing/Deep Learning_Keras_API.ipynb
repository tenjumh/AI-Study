{
 "cells": [
  {
   "cell_type": "markdown",
   "metadata": {},
   "source": [
    "# 케라스의 함수형 API(Keras Functional API)\n",
    "<b><h2>1. sequential API로 만든 모델</h2></b>\n",
    "- 기본 모델 : 단순하나 복잡한 신경망 구현 어려움"
   ]
  },
  {
   "cell_type": "code",
   "execution_count": null,
   "metadata": {},
   "outputs": [],
   "source": [
    "from tensorflow.keras.models import Sequential\n",
    "from tensorflow.keras.layers import Dense\n",
    "model=Sequential()\n",
    "model.add(Dense(3, input_dim=4, activation='softmax'))"
   ]
  },
  {
   "cell_type": "markdown",
   "metadata": {},
   "source": [
    "<b><h2>2. functional API로 만든 모델</h2></b>\n",
    "- 코딩 순서, Input, Dense, Model, Conpile, fit<br>\n",
    "\n",
    "<b>1) 전결합 피드 포워드 신경망(Fully-connected FFNN)</b><br>\n",
    "입력 데이터의 크기(shape)를 인자로 입력층을 정의<br>\n",
    "입력 차원이 1인 전결합 피드 포워드 신경망 예시"
   ]
  },
  {
   "cell_type": "code",
   "execution_count": null,
   "metadata": {},
   "outputs": [],
   "source": [
    "from tensorflow.keras.layers import Input, Dense\n",
    "from tensorflow.keras.models import Model\n",
    "# 텐서를 리턴\n",
    "inputs = Input(shape=(10,))\n",
    "\n",
    "# 은닉층과 출력층 추가\n",
    "hidden1 = Dense(64, activation='relu')(inputs)\n",
    "hideen2 = Dense(64, activation='relu')(hidden1)\n",
    "output = Dense(1, activation='sigmoid')(hideen2)\n",
    "\n",
    "# 하나의 모델 구성\n",
    "model = Model(inputs=inputs, outputs=output)\n",
    "\n",
    "# compile, fit\n",
    "model.compile(optimizer='rmsprop', loss='categorical_crossentropy', metrics=['accuracy'])\n",
    "model.fit(data, labels)"
   ]
  },
  {
   "cell_type": "markdown",
   "metadata": {},
   "source": [
    "1. Input()함수에 입력의 크기를 정의\n",
    "2. 이전층을 다음층 함수의 입력으로 사용하고 변수에 할당\n",
    "3. Model()함수에 입력과 출력을 정의"
   ]
  },
  {
   "cell_type": "markdown",
   "metadata": {},
   "source": [
    "- 전결합 피드 포워드 신경망(Fully-connected FFNN) 만들기 - 변수를 전부 x로 통일"
   ]
  },
  {
   "cell_type": "code",
   "execution_count": 5,
   "metadata": {},
   "outputs": [],
   "source": [
    "inputs = Input(shape=(10,))\n",
    "x = Dense(8, activation=\"relu\")(inputs)\n",
    "x = Dense(4, activation=\"relu\")(x)\n",
    "x = Dense(1, activation=\"linear\")(x)\n",
    "model = Model(inputs, x)"
   ]
  },
  {
   "cell_type": "markdown",
   "metadata": {},
   "source": [
    "<b>2) 선형 회귀(Linear Regression)</b><br>"
   ]
  },
  {
   "cell_type": "code",
   "execution_count": null,
   "metadata": {},
   "outputs": [],
   "source": [
    "from tensorflow.keras.layers import Input, Dense\n",
    "from tensorflow.keras.models import Model\n",
    "\n",
    "inputs = Input(shape=(3,))\n",
    "output = Dense(1, activation='linear')(inputs)\n",
    "linear_model = Model(inputs, output)\n",
    "\n",
    "linear_model.compile(optimizer='sgd', loss='mse')\n",
    "linear_model.fit(x=dat_test, y=y_cts_test, epochs=50, verbose=0)\n",
    "linear_model.fit(x=dat_test, y=y_cts_test, epochs=1, verbose=1)"
   ]
  },
  {
   "cell_type": "markdown",
   "metadata": {},
   "source": [
    "<b>3) 로지스틱 회귀(Logistic Regression)</b><br>"
   ]
  },
  {
   "cell_type": "code",
   "execution_count": null,
   "metadata": {},
   "outputs": [],
   "source": [
    "from tensorflow.keras.layers import Input, Dense\n",
    "from tensorflow.keras.models import Model\n",
    "\n",
    "inputs = Input(shape=(3,))\n",
    "output = Dense(1, activation='sigmoid')(inputs)\n",
    "logistic_model = Model(inputs, output)\n",
    "\n",
    "logistic_model.compile(optimizer='sgd', loss='binary_crossentropy', metrics=['accuracy'])\n",
    "logistic_model.optimizer.lr = 0.001\n",
    "logistic_model.fit(x=dat_train, y=y_classifier_train, epochs=5, validation_data=(dat_test, y_classifier_test))"
   ]
  },
  {
   "cell_type": "markdown",
   "metadata": {},
   "source": [
    "<b>4) 다중 입력을 받는 모델(model that accepts multiple inputs)</b><br>"
   ]
  },
  {
   "cell_type": "code",
   "execution_count": null,
   "metadata": {},
   "outputs": [],
   "source": [
    "model = Model(inputs=[a1, a2], outputs=[b1, b2, b3])"
   ]
  },
  {
   "cell_type": "markdown",
   "metadata": {},
   "source": [
    "- Full 설계"
   ]
  },
  {
   "cell_type": "code",
   "execution_count": 10,
   "metadata": {},
   "outputs": [],
   "source": [
    "from tensorflow.keras.layers import Input, Dense, concatenate\n",
    "from tensorflow.keras.models import Model\n",
    "\n",
    "# Input\n",
    "inputA = Input(shape=(64,))\n",
    "inputB = Input(shape=(128,))\n",
    "\n",
    "# Dense : 첫번째 입력층 인공신경망 정의\n",
    "x = Dense(16, activation='relu')(inputA)\n",
    "x = Dense(8, activation='relu')(x)\n",
    "# Model\n",
    "x = Model(inputs=inputA, outputs=x)\n",
    "\n",
    "# Dense : 두번째 입력층 인공신경망 정의\n",
    "y = Dense(64, activation='relu')(inputB)\n",
    "y = Dense(32, activation='relu')(y)\n",
    "y = Dense(8, activation='relu')(y)\n",
    "# Model\n",
    "y = Model(inputs=inputB, outputs=y)\n",
    "\n",
    "# 두개의 인공 신경망의 출력을 연결(concatenate)\n",
    "result = concatenate([x.output, y.output])\n",
    "\n",
    "# 연결된 값을 입력 받는 층 추가\n",
    "z = Dense(2, activation='relu')(result)\n",
    "# 선형회귀\n",
    "z = Dense(1, activation='linear')(z)\n",
    "# 두 개의 입력층으로부터 분기되어 진행된 후 마지막에는 하나의 출력을 예측 모델\n",
    "model = Model(inputs=[x.input, y.input], outputs=z)"
   ]
  },
  {
   "cell_type": "markdown",
   "metadata": {},
   "source": [
    "<b>5) RNN(Recurrence Neural Network) 은닉층 사용하기</b><br>\n",
    "하나의 특성(feature)에 50개의 시점(time-step)을 입력으로 받는 모델을 설계"
   ]
  },
  {
   "cell_type": "code",
   "execution_count": 12,
   "metadata": {},
   "outputs": [],
   "source": [
    "from tensorflow.keras.layers import Input, Dense, LSTM\n",
    "from tensorflow.keras.models import Model\n",
    "\n",
    "inputs = Input(shape=(50,1))\n",
    "lstm_layer = LSTM(10)(inputs)\n",
    "x = Dense(10, activation='relu')(lstm_layer)\n",
    "output = Dense(1, activation='sigmoid')(x)\n",
    "model = Model(inputs=inputs, outputs=output)"
   ]
  },
  {
   "cell_type": "markdown",
   "metadata": {},
   "source": [
    "*** 동일한 표현"
   ]
  },
  {
   "cell_type": "code",
   "execution_count": null,
   "metadata": {},
   "outputs": [],
   "source": [
    "encoder = Dense(128)(input)"
   ]
  },
  {
   "cell_type": "code",
   "execution_count": null,
   "metadata": {},
   "outputs": [],
   "source": [
    "encoder = Dense(128)\n",
    "encoder(input)"
   ]
  }
 ],
 "metadata": {
  "kernelspec": {
   "display_name": "Python 3",
   "language": "python",
   "name": "python3"
  },
  "language_info": {
   "codemirror_mode": {
    "name": "ipython",
    "version": 3
   },
   "file_extension": ".py",
   "mimetype": "text/x-python",
   "name": "python",
   "nbconvert_exporter": "python",
   "pygments_lexer": "ipython3",
   "version": "3.6.9"
  }
 },
 "nbformat": 4,
 "nbformat_minor": 2
}

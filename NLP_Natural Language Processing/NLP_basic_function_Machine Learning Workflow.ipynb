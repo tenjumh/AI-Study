{
 "cells": [
  {
   "cell_type": "markdown",
   "metadata": {},
   "source": [
    "# 1. Machine Learning Workflow\n",
    "1) 수집(Acquisition)<br>\n",
    "2) 점검 및 탐색(Inspection and exploration)<br>\n",
    "3) 전처리 및 정제(Preprocessing and Cleaning)<br>\n",
    "4) 모델링 및 훈련(Modeling and Training)<br>\n",
    "5) 평가(Evaluation)<br>\n",
    "6) 배포(Deployment)"
   ]
  },
  {
   "cell_type": "markdown",
   "metadata": {},
   "source": [
    "# 1)수집(Acquisition)\n",
    "- 학습시킬 데이터가 필요 : 자연어 데이터 등\n",
    "- 자연어 데이터를 말뭉치 또는 코퍼스(corpus)라고 함.\n",
    "- Corpus : 조사나 연구 목적에 의해서 특정 도메인으로부터 수집된 텍스트 집합\n",
    "- 즉, 텍스트 데이터 파일형식: txt, csv, xml파일 등의 형태로\n",
    "      음성데이터, 웹수집 데이터, 영화 리뷰 등"
   ]
  },
  {
   "cell_type": "markdown",
   "metadata": {},
   "source": [
    "# 2)점검 및 탐색(Inspection and exploration)\n",
    "- 데이터가 수집되었으면 데이터를 점검하고 탐색하는 단계<br>\n",
    "- 데이터의 구조, 노이즈 데이터, 머신 러닝 적용을 위한 데이터 정제 방법 등 파악<br>\n",
    "- <b>탐색적 데이터 분석(Exploratory Data Analysis, EDA)</b> 단계<br>\n",
    "- 독립변수, 종속변수, 변수 유형, 변수의 데이터 타입 점검<br>\n",
    "- 데이터 특징과 내재하는 구조적 관계 파악<br>\n",
    "- 시각화와 간단한 통계 테스트 진행"
   ]
  },
  {
   "cell_type": "markdown",
   "metadata": {},
   "source": [
    "# 3)전처리 및 정제(Preprocessing and Cleaning)\n",
    "- 자연어 처리 : 토큰화, 정제, 정규화, 불용어 제거 등 진행\n",
    "- 가장 까다롭고 힘든 작업ㅋㅋㅋ"
   ]
  },
  {
   "cell_type": "markdown",
   "metadata": {},
   "source": [
    "# 4)모델링 및 훈련(Modeling and Training)\n",
    "- 머신러닝 알고리즘 선택하여 모델링<br>\n",
    "- 전처리 완료된 데이터를 머신러닝 알고리즘을 통해 <b>학습</b><br>\n",
    "- [주의점]\n",
    " 1) 모든 데이터를 학습시켜선 안됨\n",
    " 2) Training data/Testing data 또는 Training data/Validation data/Testing data로 구분\n",
    " 3) 성능 측정 및 과적합(overfitting)을 제어\n",
    " 4) testing data는 성능 개선하는 학습에 사용하지 않고 오로지 평가를 위한 데이터임."
   ]
  },
  {
   "cell_type": "markdown",
   "metadata": {},
   "source": [
    "# 5)평가(Evaluation)\n",
    "- Testing data를 통한 평가 측정"
   ]
  },
  {
   "cell_type": "markdown",
   "metadata": {},
   "source": [
    "# 6)배포(Deployment)"
   ]
  }
 ],
 "metadata": {
  "kernelspec": {
   "display_name": "Python 3",
   "language": "python",
   "name": "python3"
  },
  "language_info": {
   "codemirror_mode": {
    "name": "ipython",
    "version": 3
   },
   "file_extension": ".py",
   "mimetype": "text/x-python",
   "name": "python",
   "nbconvert_exporter": "python",
   "pygments_lexer": "ipython3",
   "version": "3.6.9"
  }
 },
 "nbformat": 4,
 "nbformat_minor": 2
}

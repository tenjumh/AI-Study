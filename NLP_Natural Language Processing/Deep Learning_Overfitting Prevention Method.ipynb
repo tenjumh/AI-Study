{
 "cells": [
  {
   "cell_type": "markdown",
   "metadata": {},
   "source": [
    "# Overfitting Prevention Method\n",
    "<b>1. 데이터의 양을 늘리기</b><br>\n",
    "    - 데이터의 양이 적을 경우, 해당 데이터의 특정 패턴이나 노이즈까지 쉽게 암기하기 되므로 과적합 현상이 발생\n",
    "    - Data Augmentation : 데이터의 양이 적을 경우에는 의도적으로 기존의 데이터를 조금씩 변형하고 추가하여 데이터의 양을 늘리기도 하는데 이를 데이터 증식 또는 증강(Data Augmentation)\n",
    "    \n",
    "<b>2. 모델의 복잡도 줄이기</b><br>\n",
    "\n",
    "<b>3. 가중치 규제(Regularization) 적용하기</b><br>\n",
    "    - L1 규제 : 가중치 w들의 절대값 합계를 비용 함수에 추가합니다. \n",
    "        L1 노름이라고도 합니다.\n",
    "        기존의 비용 함수에 모든 가중치에 대해서 λ∣w∣를 더 한 값을 비용 함수   \n",
    "    - L2 규제 : 모든 가중치 w들의 제곱합을 비용 함수에 추가합니다.\n",
    "        L2 노름이라고도 합니다.\n",
    "        기존의 비용 함수에 모든 가중치에 대해서 12λw2를 더 한 값을 비용 함수\n",
    "    - λ는 규제의 강도를 정하는 하이퍼파라미터\n",
    "    - 비용함수라는 것은 최소화되어야 하기에 가중치 w도 작아져야 한다.\n",
    "    - 가중치들이 작아지면 0 또는 0에 가까이 작아져서 어떤 특성들은 모델에 영향을 미치지 않게 됩니다.\n",
    "    - 예를 들어 H(x)= w1x1 + w2x2 + w3x3 + w4x4라는 수식이 있다고 해봅시다. 여기에 L1 규제를 사용하였더니, w3의 값이 0이 되었다고 하면 x3 특성은 사실 모델의 결과에 별 영향을 주지 못하는 특성임을 의미\n",
    "    - L2 규제는 L1 규제와는 달리 가중치들의 제곱을 최소화하므로 w의 값이 완전히 0이 되기보다는 0에 가까워지기는 경향\n",
    "    - L1 규제는 어떤 특성들이 모델에 영향을 주고 있는지를 정확히 판단하고자 할 때 유용하나 그 이외는 L2규제가 더 잘 작동한다.\n",
    "    - L2 규제는 가중치 감쇠(weight decay)\n",
    "    \n",
    "<b>4. 드롭아웃(Dropout)</b><br>\n",
    "    - 드롭아웃은 신경망 학습 시에만 사용\n",
    "    - 특정 뉴런 또는 특정 조합에 너무 의존적이게 되는 것을 방지\n",
    "    - 매번 랜덤 선택으로 뉴런들을 사용하지 않으므로 서로 다른 신경망들을 앙상블하여 사용하는 것 같은 효과\n",
    "    - 케라스 예시<br>\n",
    "    model = Sequential()\n",
    "    model.add(Dense(256, input_shape=(max_words,), activation='relu'))\n",
    "    model.add(Dropout(0.5)) # 드롭아웃 추가. 비율은 50%\n",
    "    model.add(Dense(128, activation='relu'))\n",
    "    model.add(Dropout(0.5)) # 드롭아웃 추가. 비율은 50%\n",
    "    model.add(Dense(num_classes, activation='softmax'))<br>"
   ]
  },
  {
   "cell_type": "code",
   "execution_count": null,
   "metadata": {},
   "outputs": [],
   "source": []
  }
 ],
 "metadata": {
  "kernelspec": {
   "display_name": "Python 3",
   "language": "python",
   "name": "python3"
  },
  "language_info": {
   "codemirror_mode": {
    "name": "ipython",
    "version": 3
   },
   "file_extension": ".py",
   "mimetype": "text/x-python",
   "name": "python",
   "nbconvert_exporter": "python",
   "pygments_lexer": "ipython3",
   "version": "3.6.9"
  }
 },
 "nbformat": 4,
 "nbformat_minor": 2
}

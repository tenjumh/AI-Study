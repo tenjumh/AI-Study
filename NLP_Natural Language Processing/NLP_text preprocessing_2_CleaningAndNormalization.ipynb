{
 "cells": [
  {
   "cell_type": "markdown",
   "metadata": {},
   "source": [
    "# Clearning and Normalization\n",
    "- 정제와 정규화의 목적\n",
    "  1) 정제 : 갖고 있는 코퍼스로부터 노이즈 데이터를 제거\n",
    "  2) 정규화 : 표현 방법이 다른 단어들을 통합시켜서 같은 단어로 만듬"
   ]
  },
  {
   "cell_type": "markdown",
   "metadata": {},
   "source": [
    "# 1. 규칙에 기반한 표기가 다른 단어들의 통합\n",
    "- USA와 US는 같은 의미를 갖으며, 하나의 단어\n",
    "- uh-huh과 uhhuh은 형태는 다르지만 같은 의미\n",
    "- 표기가 다른 단어들을 통합하는 방법 : 어간 추출(stemming)\n",
    "- 표제어 추출(lemmatizaition)\n",
    "\n",
    "# 2. 대소문자 통합\n",
    "# 3. 불필요한 단어 제거(Removing Unnecessary Words)\n",
    "- 등장 빈도가 적은 단어(Rare words)\n",
    "- 길이가 짧은 단어(Very a short length)\n",
    "  단, 영어는 1-2길이 이하의 단어를 제거에 효과적이지만 한글은 1길이의 단어도 의미를 갖는 경우가 많아 고미 필요"
   ]
  },
  {
   "cell_type": "code",
   "execution_count": 2,
   "metadata": {},
   "outputs": [
    {
     "name": "stdout",
     "output_type": "stream",
     "text": [
      " was wondering  anyone out there could enlighten   this car.\n"
     ]
    }
   ],
   "source": [
    "#길이가 1-2인 단어들을 정규 표현식을 이용 삭제\n",
    "import re\n",
    "text = \"I was wondering if anyone out there could enlighten me on this car.\"\n",
    "shortword = re.compile(r'\\w*\\b\\w{1,2}\\b')\n",
    "print(shortword.sub('', text))"
   ]
  }
 ],
 "metadata": {
  "kernelspec": {
   "display_name": "Python 3",
   "language": "python",
   "name": "python3"
  },
  "language_info": {
   "codemirror_mode": {
    "name": "ipython",
    "version": 3
   },
   "file_extension": ".py",
   "mimetype": "text/x-python",
   "name": "python",
   "nbconvert_exporter": "python",
   "pygments_lexer": "ipython3",
   "version": "3.6.9"
  }
 },
 "nbformat": 4,
 "nbformat_minor": 2
}

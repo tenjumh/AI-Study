{
 "cells": [
  {
   "cell_type": "markdown",
   "metadata": {},
   "source": [
    "# 특이값 분해(SVD, Singular Value Decomposition)의 활용"
   ]
  },
  {
   "cell_type": "markdown",
   "metadata": {},
   "source": [
    "1. 특이값 분해(SVD)<br>\n",
    " -특이값 분해(SVD)는 고유값 분해(eigendecomposition)처럼 행렬을 대각화하는 한 방법<br>\n",
    " -특이값 분해가 유용한 이유는 행렬이 정방행렬이든 아니든 관계없이 모든 m x n행렬에 대해 적용 가능<br>\n",
    " -실수 공간에서 임의의 m x n행렬에 대한 특이값 분해(SVD)는 다음과 같이 정의된다.<br>\n",
    "![유클리드거리](https://github.com/tenjumh/AI-Study/blob/master/Linear%20Algebra_%EC%84%A0%ED%98%95%EB%8C%80%EC%88%98%ED%95%99/image/1.%20%EC%BA%A1%EC%B2%98.PNG?raw=True)"
   ]
  },
  {
   "cell_type": "markdown",
   "metadata": {},
   "source": [
    "-U는 AA^T를 고유값 분해해서 얻어진 직교행렬로 U의 열벡터들을 A의 left singular vector라 부른다. <br>\n",
    "-V는 A^TA를 고유값 분해해서 얻어진 직교행렬로 V의 열벡터들을 A의 right singular vector라 부른다.<br>\n",
    "-(left, right가 상당히 햇갈리는데 그냥 Σ의 왼쪽에 있는 U가 left singular 벡터, 오른쪽에 있는 V가 right singular 벡터들이라고 생각)<br>\n",
    "-Σ는 AAT, ATA를 고유값분해해서 나오는 고유값(eigenvalue)들의 square root를 대각원소로 하는 m x n 직사각 대각행렬로 그 대각원소들을 A의 특이값(singular value)<br>\n",
    "-U, V가 직교행렬(orthogonal matrix)이라 함은 UUT = VVT = E, U-1=UT, V-1=VT임\n",
    "- U의 열벡터(ui): left singular vectors of A (AAT의 eigenvector)\n",
    "- V의 열벡터(vi): right singular vectors of A (ATA의 eigenvector)\n",
    "\n",
    "Σ의 대각원소(σi): singular values of A (ATA, AAT의 eigenvalue들의 square root)<br>\n"
   ]
  },
  {
   "cell_type": "code",
   "execution_count": null,
   "metadata": {},
   "outputs": [],
   "source": []
  }
 ],
 "metadata": {
  "kernelspec": {
   "display_name": "Python 3",
   "language": "python",
   "name": "python3"
  },
  "language_info": {
   "codemirror_mode": {
    "name": "ipython",
    "version": 3
   },
   "file_extension": ".py",
   "mimetype": "text/x-python",
   "name": "python",
   "nbconvert_exporter": "python",
   "pygments_lexer": "ipython3",
   "version": "3.6.10"
  }
 },
 "nbformat": 4,
 "nbformat_minor": 2
}

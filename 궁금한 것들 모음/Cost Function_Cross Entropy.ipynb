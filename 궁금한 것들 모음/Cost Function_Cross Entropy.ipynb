{
 "cells": [
  {
   "cell_type": "markdown",
   "metadata": {},
   "source": [
    "# 크로스 엔트로피\n",
    "<b>엔트로피란</b>\n",
    "- 정보량의 기대값\n",
    "- 어떤 사건 A가 발생했을 때 이 사건의 정보량은 확률의 역수로 정의한다.<br>\n",
    "    1 / P(A)<br>  --> 정보량\n",
    "- 빈번하게 일어나는 사건이라면 확률이 크기 때문에 위 식의 값은 작아지고\n",
    "- 드물게 일어나는 사건이라면 확률이 작기 때문에 위 식의 값이 커지기에 정보량으로 사용 적절\n",
    "- 만약 <b>관계 없는</b> 두 사건이 동시에 일어날 확률은 두 확률의 곲으로 계산<br>\n",
    "    1/P(A) X 1/P(B)<br>\n",
    "- 그런데 계산의 편의상 정보량을 곱하는 것보다 더하는 것이 더 직관적\n",
    "- ***<b> 수학에서 곱셈을 덧셈으로 변경할 때 뭐 쓰죠? \"로그함수\"를 씁니다.</b>\n",
    "- 로그함수는 곱셈을 덧셈으로 변경할 때 자주 이용된다.\n",
    "\n",
    "![행렬](https://github.com/tenjumh/GraduateSchool/blob/master/Study/%EA%B6%81%EA%B8%88%ED%95%9C%20%EA%B2%83%EB%93%A4%20%EB%AA%A8%EC%9D%8C/image/%EB%A1%9C%EA%B7%B8%ED%95%A8%EC%88%98.PNG?raw=True)\n",
    "\n",
    "- log(1/P(x)) = log(P(x)^-1) = -log(P(x))  ==> 정보량 <br>\n",
    "\n",
    "\n",
    "![행렬](https://github.com/tenjumh/GraduateSchool/blob/master/Study/%EA%B6%81%EA%B8%88%ED%95%9C%20%EA%B2%83%EB%93%A4%20%EB%AA%A8%EC%9D%8C/image/%EB%A1%9C%EA%B7%B8%ED%95%A8%EC%88%982.PNG?raw=True)\n",
    "\n",
    "- 사건 X의 기대값(Expectation)은 E(X)이고\n",
    "- 정보량(-log(P(x))의 기대값은 E(-log(P(x))이다.\n",
    "![행렬](https://github.com/tenjumh/GraduateSchool/blob/master/Study/%EA%B6%81%EA%B8%88%ED%95%9C%20%EA%B2%83%EB%93%A4%20%EB%AA%A8%EC%9D%8C/image/%EB%A1%9C%EA%B7%B8%ED%95%A8%EC%88%983.PNG?raw=True)\n",
    "\n",
    "![행렬](https://github.com/tenjumh/GraduateSchool/blob/master/Study/%EA%B6%81%EA%B8%88%ED%95%9C%20%EA%B2%83%EB%93%A4%20%EB%AA%A8%EC%9D%8C/image/%EB%A1%9C%EA%B7%B8%ED%95%A8%EC%88%984.PNG?raw=True)\n",
    "\n",
    "- 신경망(소프트맥스) 손실함수에서 y(레이블)은 0 또는 1을 갖으며\n",
    "- ^y(예측값)은 0 ~ 1사이값을 갖는다.\n",
    "\n",
    "![행렬](https://github.com/tenjumh/GraduateSchool/blob/master/Study/%EA%B6%81%EA%B8%88%ED%95%9C%20%EA%B2%83%EB%93%A4%20%EB%AA%A8%EC%9D%8C/image/%EB%A1%9C%EA%B7%B8%ED%95%A8%EC%88%985.PNG?raw=True)\n",
    "\n",
    "![행렬](https://github.com/tenjumh/GraduateSchool/blob/master/Study/%EA%B6%81%EA%B8%88%ED%95%9C%20%EA%B2%83%EB%93%A4%20%EB%AA%A8%EC%9D%8C/image/%EB%A1%9C%EA%B7%B8%ED%95%A8%EC%88%986.PNG?raw=True)\n",
    "\n",
    "![행렬](https://github.com/tenjumh/GraduateSchool/blob/master/Study/%EA%B6%81%EA%B8%88%ED%95%9C%20%EA%B2%83%EB%93%A4%20%EB%AA%A8%EC%9D%8C/image/%EB%A1%9C%EA%B7%B8%ED%95%A8%EC%88%987.PNG?raw=True)"
   ]
  },
  {
   "cell_type": "code",
   "execution_count": null,
   "metadata": {},
   "outputs": [],
   "source": []
  }
 ],
 "metadata": {
  "kernelspec": {
   "display_name": "Python 3",
   "language": "python",
   "name": "python3"
  },
  "language_info": {
   "codemirror_mode": {
    "name": "ipython",
    "version": 3
   },
   "file_extension": ".py",
   "mimetype": "text/x-python",
   "name": "python",
   "nbconvert_exporter": "python",
   "pygments_lexer": "ipython3",
   "version": "3.6.9"
  }
 },
 "nbformat": 4,
 "nbformat_minor": 2
}

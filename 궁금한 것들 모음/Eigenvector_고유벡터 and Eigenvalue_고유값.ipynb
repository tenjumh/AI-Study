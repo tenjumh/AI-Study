{
 "cells": [
  {
   "cell_type": "markdown",
   "metadata": {},
   "source": [
    "# Eigenvector_고유벡터 and Eigenvalue_고유값\n",
    "- 사방으로 늘어나는 재질의 지도가 있다고 할 때, 두 도시를 잇는 화살표가 있다.\n",
    "- 예를 들어 세로로 2배로 쭉 늘렸을 때 방향이 변하지 않는 화살표들이 있다.\n",
    "- 그것이 남북 화살표(길이만 2배로 증가), 동서 화살표(그대로 임)\n",
    "- 이 때(세로로 길이 변환(Transformation)) 두 종류의 화살표(벡터)가 \"Eigenvector\"이다.\n",
    "- 이 때 남북 벡터의 아이겐벡터는 2이고, 동서 벡터의 아이겐벡터는 1이다.\n",
    "- <b>아이겐벡터란 어떤 \"변환\"에 대해서 방향이 변하지 않는 벡터를 의미</b>\n",
    "![아이겐벡터](?raw=True)"
   ]
  },
  {
   "cell_type": "markdown",
   "metadata": {},
   "source": [
    "## 구하는 공식\n",
    "일단, (X, Y)  E(x):X평균, E(y):Y평균\n",
    "1. 분산 = E((X-E(x))^2 + (Y-E(y))^2)\n",
    "2. 공분산 = E(X-E(x))(Y-E(y))\n",
    "3. Eigenvalue \n",
    "    - [[2,1],[1,2]]에 대한 Eigenvetor와 Eigenvalue는\n",
    "    - 1) matmul([[2,1],[1,2]], [x,y]) = G(gamma) * [x, y]\n",
    "    - = matmul(G * np.eyes([1,0],[0,1]), [x, y])\n",
    "    - = matmul([2-G, 1], [1, 2-G]), [x, y]) = 0\n",
    "    - = (2-G)*(2-G)-1*1 = 0      # ad-bc=0\n",
    "    - = 4-4G+G^2-1=0\n",
    "    - = 3-4G+G^2=0\n",
    "    - = (G-1)(G-3)=0\n",
    "    - G = 1 and 3\n",
    "    - G가 Eigenvalue이고 Eigenvetor는 1)식에다 G를 넣고 풀어주면됨"
   ]
  },
  {
   "cell_type": "code",
   "execution_count": 23,
   "metadata": {},
   "outputs": [
    {
     "name": "stdout",
     "output_type": "stream",
     "text": [
      "EigenValue : \n",
      "[3. 1.] \n",
      "EigenVector : \n",
      "[[ 0.70710678 -0.70710678]\n",
      " [ 0.70710678  0.70710678]]\n"
     ]
    }
   ],
   "source": [
    "import numpy as np\n",
    "import numpy.linalg as LA\n",
    "\n",
    "A = np.array([[2,1],[1,2]])\n",
    "w, v = LA.eig(A)\n",
    "print('EigenValue : \\n{0} \\nEigenVector : \\n{1}'.format(w, v))"
   ]
  },
  {
   "cell_type": "code",
   "execution_count": 61,
   "metadata": {},
   "outputs": [
    {
     "name": "stdout",
     "output_type": "stream",
     "text": [
      "T = S * V * S.T\n",
      "[[1.99999999 1.        ]\n",
      " [1.         1.99999999]]\n"
     ]
    }
   ],
   "source": [
    "S = np.array([[0.70710678, -0.70710678], [0.70710678, 0.70710678]])\n",
    "V = np.array([[3,0], [0,1]])\n",
    "T = np.dot(S,A)\n",
    "T = np.dot(T,S.T)\n",
    "print('T = S * V * S.T')\n",
    "print(T)"
   ]
  },
  {
   "cell_type": "code",
   "execution_count": 60,
   "metadata": {},
   "outputs": [
    {
     "name": "stdout",
     "output_type": "stream",
     "text": [
      "T = S * V * S.T\n",
      "[[2. 1.]\n",
      " [1. 2.]]\n"
     ]
    }
   ],
   "source": [
    "I = np.eye(2)\n",
    "V = w*I\n",
    "T = np.dot(v,V)\n",
    "T = np.dot(T,v.T)\n",
    "print('T = S * V * S.T')\n",
    "print(T)"
   ]
  },
  {
   "cell_type": "markdown",
   "metadata": {},
   "source": []
  },
  {
   "cell_type": "code",
   "execution_count": null,
   "metadata": {},
   "outputs": [],
   "source": []
  }
 ],
 "metadata": {
  "kernelspec": {
   "display_name": "Python 3",
   "language": "python",
   "name": "python3"
  },
  "language_info": {
   "codemirror_mode": {
    "name": "ipython",
    "version": 3
   },
   "file_extension": ".py",
   "mimetype": "text/x-python",
   "name": "python",
   "nbconvert_exporter": "python",
   "pygments_lexer": "ipython3",
   "version": "3.6.10"
  }
 },
 "nbformat": 4,
 "nbformat_minor": 2
}

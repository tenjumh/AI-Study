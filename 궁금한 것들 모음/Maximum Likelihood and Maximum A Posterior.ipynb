{
 "cells": [
  {
   "cell_type": "markdown",
   "metadata": {},
   "source": [
    "### 베이즈 정리\n",
    "- P(x|z) = P(z|x)P(x) / P(z)\n",
    "- Likelihood : P(z|x), 어떤 모델에서 해당 데이터가 나올 확률\n",
    "- Prior Probability : P(x), 관측하기 전 가지고 있던 선험적인 확률\n",
    "- Posterior Probability : P(x|z), 사건이 발생한 후 그 사건이 특정 모델에서 발생할 확률\n",
    "\n",
    "### ML과 MAP\n",
    "- 예시 : 관측값(z) - 바닥에 떨어진 머리카락 길이, 그 값이 나온 클래스(x) - 성별 판단\n",
    "    1. ML : 남자에게서 그 머리카락이 나올 확률 P(z|남자), 여자에게서 그 머리카락이 나올 확률 P(z|여자)를 비교해서 가장 확률이 큰 클래스를 선택\n",
    "    2. MAP : 머리카락이 발견되었다면 그것이 남자 것일 확률 P(남자|z), 여자 것일 확률 P(여자|z)를 비교해서 가장 확률이 큰 클래스를 선택\n",
    "    3. 차이점 : ML은 남여의 성비를 P(남자) = P(여자)같다고 보고 MAP은 남여성비까지 P(남자) = 55%, P(여자) = 45% 고려하여 추론한다.\n",
    "    4. MAP이 정확하지만 사전확률인 남여성비 등을 확인하기 어려울 때가 많다. 그래서 일반적으로 ML을 많이 사용한다.\n",
    "\n",
    "### 예시 : 이미지 내에 피부색을 검출\n",
    "- 영상에서 피부색을 검출하는 문제는 결국, 영상의 각 픽셀이 피부색인지 아닌지 여부를 결정하는 classification 문제\n",
    "    1. 샘플 영상들을 열심히 수집해서 피부색 DB와 일반 색상 DB를 구성\n",
    "    2. DB구성이 끝나면 이제 입력 영상의 각 픽셀값이 피부색인지 여부를 베이지언 방법으로 판단\n",
    "    3. 입력 픽셀값이 z라 하면 p(z|피부색)은 피부색 DB에 있는 데이터들 중에서 z와 같은 색을 가진 데이터의 비율, p(z|일반색)은 일반색 DB에 있는 데이터들 중에서 z와 같은 색을 가진 데이터의 비율\n",
    "    4. ML로 피부색 검출을 한다면 p(z|피부색)과 p(z|일반색)을 비교해서 확률이 큰 값을 선택\n",
    "    5. 만약 MAP으로 푼다면 세상에 존재하는 모든 이미지 색상들 중 P(피부색), P(일반색)을 구하기는 어렵다. 따라서 ML을 사용한다.\n",
    "\n",
    "\n"
   ]
  },
  {
   "cell_type": "code",
   "execution_count": null,
   "metadata": {},
   "outputs": [],
   "source": []
  }
 ],
 "metadata": {
  "kernelspec": {
   "display_name": "Python 3",
   "language": "python",
   "name": "python3"
  },
  "language_info": {
   "codemirror_mode": {
    "name": "ipython",
    "version": 3
   },
   "file_extension": ".py",
   "mimetype": "text/x-python",
   "name": "python",
   "nbconvert_exporter": "python",
   "pygments_lexer": "ipython3",
   "version": "3.6.10"
  }
 },
 "nbformat": 4,
 "nbformat_minor": 2
}
